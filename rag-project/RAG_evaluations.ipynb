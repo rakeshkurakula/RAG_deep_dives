{
 "cells": [
  {
   "cell_type": "code",
   "execution_count": 1,
   "metadata": {},
   "outputs": [],
   "source": [
    "# %pip install llama-index qdrant_client torch transformers\n",
    "\n",
    "# %pip install llama-index-embeddings-huggingface\n",
    "\n",
    "# %pip install llama-index-llms-ollama\n",
    "\n",
    "# %pip install llama-index-vector-stores-qdrant\n",
    "\n",
    "# %pip install llama-index-embeddings-fastembed"
   ]
  },
  {
   "cell_type": "code",
   "execution_count": 2,
   "metadata": {},
   "outputs": [],
   "source": [
    "import nest_asyncio\n",
    "import qdrant_client\n",
    "\n",
    "from llama_index.core import Settings\n",
    "from llama_index.core import PromptTemplate\n",
    "from llama_index.llms.ollama import Ollama\n",
    "from llama_index.core import StorageContext\n",
    "from llama_index.core import VectorStoreIndex, SimpleDirectoryReader\n",
    "from llama_index.embeddings.huggingface import HuggingFaceEmbedding\n",
    "from llama_index.core.postprocessor import SentenceTransformerRerank\n",
    "from llama_index.embeddings.fastembed import FastEmbedEmbedding\n",
    "from llama_index.vector_stores.qdrant import QdrantVectorStore\n",
    "\n",
    "from IPython.display import Markdown, display"
   ]
  },
  {
   "cell_type": "code",
   "execution_count": 3,
   "metadata": {},
   "outputs": [],
   "source": [
    "# set up asyncio\n",
    "nest_asyncio.apply()"
   ]
  },
  {
   "cell_type": "markdown",
   "metadata": {},
   "source": [
    "###  Define the LLM, the embedding model and re-ranker"
   ]
  },
  {
   "cell_type": "code",
   "execution_count": 4,
   "metadata": {},
   "outputs": [
    {
     "name": "stderr",
     "output_type": "stream",
     "text": [
      "/Users/rakeshk94/miniconda3/envs/torch/lib/python3.9/site-packages/huggingface_hub/file_download.py:795: FutureWarning: `resume_download` is deprecated and will be removed in version 1.0.0. Downloads always resume when possible. If you want to force a new download, use `force_download=True`.\n",
      "  warnings.warn(\n"
     ]
    }
   ],
   "source": [
    "llm = Ollama(model=\"llama3.2:1b\", request_timeout=120.0)\n",
    "\n",
    "embed_model = FastEmbedEmbedding(model_name=\"BAAI/bge-large-en-v1.5\")\n",
    "\n",
    "rerank = SentenceTransformerRerank(model=\"BAAI/bge-reranker-base\", top_n=2)"
   ]
  },
  {
   "cell_type": "code",
   "execution_count": 5,
   "metadata": {},
   "outputs": [],
   "source": [
    "Settings.embed_model = embed_model\n",
    "\n",
    "Settings.llm = llm"
   ]
  },
  {
   "cell_type": "markdown",
   "metadata": {},
   "source": [
    "### Read the documents"
   ]
  },
  {
   "cell_type": "code",
   "execution_count": 6,
   "metadata": {},
   "outputs": [],
   "source": [
    "input_dir_path = './data'\n",
    "\n",
    "loader = SimpleDirectoryReader(\n",
    "            input_dir = input_dir_path,\n",
    "            required_exts=[\".txt\"],\n",
    "            recursive=True\n",
    "        )\n",
    "docs = loader.load_data()"
   ]
  },
  {
   "cell_type": "markdown",
   "metadata": {},
   "source": [
    "### Set up the Qdrant vector database"
   ]
  },
  {
   "cell_type": "code",
   "execution_count": 7,
   "metadata": {},
   "outputs": [],
   "source": [
    "client = qdrant_client.QdrantClient(host=\"localhost\", port=6333)\n",
    "\n",
    "vector_store = QdrantVectorStore(client=client,\n",
    "                                 collection_name=\"document_chat\")\n",
    "\n",
    "storage_context = StorageContext.from_defaults(vector_store=vector_store)\n",
    "\n",
    "index = VectorStoreIndex.from_documents(docs,\n",
    "                                        storage_context=storage_context)"
   ]
  },
  {
   "cell_type": "markdown",
   "metadata": {},
   "source": [
    "### Define the query engine and prompt template"
   ]
  },
  {
   "cell_type": "code",
   "execution_count": 8,
   "metadata": {},
   "outputs": [],
   "source": [
    "query_engine = index.as_query_engine(similarity_top_k=4,\n",
    "                                     node_postprocessors=[rerank])\n",
    "\n",
    "template = \"\"\"Context information is below.\n",
    "              ---------------------\n",
    "              {context_str}\n",
    "              ---------------------\n",
    "              Given the context information above I want you to think\n",
    "              step by step to answer the query in a crisp manner. Incase \n",
    "              you don't know the answer say 'I don't know!'.\n",
    "              \n",
    "              Query: {query_str}\n",
    "              \n",
    "              Answer:\"\"\"\n",
    "\n",
    "qa_prompt_tmpl = PromptTemplate(template)\n",
    "\n",
    "query_engine.update_prompts(\n",
    "    {\"response_synthesizer:text_qa_template\": qa_prompt_tmpl}\n",
    ")"
   ]
  },
  {
   "cell_type": "markdown",
   "metadata": {},
   "source": [
    "### Query the document"
   ]
  },
  {
   "cell_type": "code",
   "execution_count": 9,
   "metadata": {},
   "outputs": [],
   "source": [
    "response = query_engine.query(\"\"\"How did the structure of funding startups \n",
    "                                 in batches contribute to the success and \n",
    "                                 growth of the Y Combinator program and the\n",
    "                                 startups involved?\"\"\")"
   ]
  },
  {
   "cell_type": "code",
   "execution_count": 10,
   "metadata": {},
   "outputs": [
    {
     "data": {
      "text/markdown": [
       "The structure of funding startups in batches, as implemented by YC (then known as Y Combinator), contributed significantly to its success and growth. Here's a step-by-step breakdown:\n",
       "\n",
       "1. **Convenience for YC**: By funding startups in batches, YC could support multiple startups simultaneously, allowing them to focus on their projects without being tied down to individual founders.\n",
       "\n",
       "2. **Isolation reduction**: Funding startups in batches helped alleviate the isolation problem faced by founders. With colleagues from different batches working together, they shared knowledge and expertise, facilitating collaboration and reducing individual founder problems.\n",
       "\n",
       "3. **Standardized support**: The batch funding structure allowed for a standardized approach to providing support to each startup. This consistency enabled YC to offer efficient and effective mentorship, helping startups grow rapidly.\n",
       "\n",
       "4. **Increased scalability**: By supporting multiple startups at once, YC could scale its efforts more efficiently, allowing it to handle a larger number of projects simultaneously without sacrificing quality or attention to detail.\n",
       "\n",
       "5. **Improved alumni network**: The batch funding model enabled the creation of an active and engaged alumni community within YC. Alumni became familiar with each other's challenges, provided valuable advice, and collaborated on opportunities that benefited both the founders and the organization as a whole.\n",
       "\n",
       "6. **Enhanced startup ecosystem**: By supporting multiple startups in batches, YC fostered a vibrant startup ecosystem, where new companies could interact with successful ones, learn from their experiences, and gain access to resources and expertise. This ecosystem contributed to the growth of the startup community and YC's reputation as a hub for innovation.\n",
       "\n",
       "7. **Y Combinator culture**: The batch funding model became an integral part of Y Combinator's (YC) culture, shaping its approach to entrepreneurship and investing in startups. It helped establish YC as a leader in the startup accelerator space and paved the way for future growth and success.\n",
       "\n",
       "8. **Alumni succession planning**: By providing support for multiple batches, YC prepared its alumni for potential future roles, ensuring that successful founders would continue to contribute to the organization's growth and success.\n",
       "\n",
       "In summary, the structure of funding startups in batches was instrumental in YC's success by allowing it to provide standardized support, scale efficiently, and create a vibrant startup ecosystem."
      ],
      "text/plain": [
       "<IPython.core.display.Markdown object>"
      ]
     },
     "metadata": {},
     "output_type": "display_data"
    }
   ],
   "source": [
    "display(Markdown(str(response)))"
   ]
  },
  {
   "cell_type": "code",
   "execution_count": 11,
   "metadata": {},
   "outputs": [],
   "source": [
    "# %pip install --upgrade ragas langchain_core\n"
   ]
  },
  {
   "cell_type": "code",
   "execution_count": 33,
   "metadata": {},
   "outputs": [],
   "source": [
    "# %pip install ragas==0.1.7\n",
    "# %pip install langchain==0.1.16\n",
    "# %pip install unstructured\n",
    "# %pip install python-magic-bin"
   ]
  },
  {
   "cell_type": "code",
   "execution_count": 34,
   "metadata": {},
   "outputs": [],
   "source": [
    "# %pip uninstall langchain langchain_core ragas -y\n",
    "# %pip install ragas\n"
   ]
  },
  {
   "cell_type": "code",
   "execution_count": 35,
   "metadata": {},
   "outputs": [],
   "source": [
    "import os\n",
    "os.environ[\"TOKENIZERS_PARALLELISM\"] = \"false\""
   ]
  },
  {
   "cell_type": "code",
   "execution_count": 36,
   "metadata": {},
   "outputs": [],
   "source": [
    "from langchain.document_loaders import DirectoryLoader\n",
    "from langchain.text_splitter import RecursiveCharacterTextSplitter\n",
    "\n",
    "loader = DirectoryLoader(\"./data/paul_graham\")\n",
    "\n",
    "text_splitter = RecursiveCharacterTextSplitter(chunk_size=1024, chunk_overlap=20)\n",
    "\n",
    "documents = loader.load_and_split(text_splitter)"
   ]
  },
  {
   "cell_type": "code",
   "execution_count": 37,
   "metadata": {},
   "outputs": [
    {
     "data": {
      "text/plain": [
       "{'lc': 1,\n",
       " 'type': 'constructor',\n",
       " 'id': ['langchain', 'schema', 'document', 'Document'],\n",
       " 'kwargs': {'metadata': {'source': 'data/paul_graham/how_to_do_great_things.txt'},\n",
       "  'page_content': 'How to Do Great Work\\n\\nJuly 2023\\n\\nIf you collected lists of techniques for doing great work in a lot of different fields, what would the intersection look like? I decided to find out by making it.\\n\\nPartly my goal was to create a guide that could be used by someone working in any field. But I was also curious about the shape of the intersection. And one thing this exercise shows is that it does have a definite shape; it\\'s not just a point labelled \"work hard.\"\\n\\nThe following recipe assumes you\\'re very ambitious.\\n\\nThe first step is to decide what to work on. The work you choose needs to have three qualities: it has to be something you have a natural aptitude for, that you have a deep interest in, and that offers scope to do great work.\\n\\nIn practice you don\\'t have to worry much about the third criterion. Ambitious people are if anything already too conservative about it. So all you need to do is find something you have an aptitude for and great interest in. [1]',\n",
       "  'type': 'Document'}}"
      ]
     },
     "execution_count": 37,
     "metadata": {},
     "output_type": "execute_result"
    }
   ],
   "source": [
    "documents[0].to_json()"
   ]
  },
  {
   "cell_type": "code",
   "execution_count": 38,
   "metadata": {},
   "outputs": [],
   "source": [
    "from langchain_community.llms import Ollama\n",
    "from langchain_community.embeddings import OllamaEmbeddings\n",
    "\n",
    "generator_llm = Ollama(model=\"phi3:3.8b\")\n",
    "critic_llm = Ollama(model=\"llama3.2:1b\")\n",
    "\n",
    "ollama_emb = OllamaEmbeddings(\n",
    "    model=\"nomic-embed-text\"\n",
    ")"
   ]
  },
  {
   "cell_type": "markdown",
   "metadata": {},
   "source": [
    "### Create Ragas' TestsetGenerator"
   ]
  },
  {
   "cell_type": "code",
   "execution_count": null,
   "metadata": {},
   "outputs": [],
   "source": [
    "# %pip install --upgrade ragas langchain\n"
   ]
  },
  {
   "cell_type": "code",
   "execution_count": null,
   "metadata": {},
   "outputs": [],
   "source": [
    "from ragas.testset.generator import TestsetGenerator\n",
    "from ragas.testset.evolutions import simple, reasoning, multi_context"
   ]
  },
  {
   "cell_type": "code",
   "execution_count": null,
   "metadata": {},
   "outputs": [],
   "source": [
    "\n",
    "generator = TestsetGenerator.from_langchain(\n",
    "    generator_llm=generator_llm,\n",
    "    critic_llm=critic_llm,\n",
    "    embeddings=ollama_emb\n",
    ")\n",
    "\n",
    "distribution = {simple: 0.5, reasoning: 0.25, multi_context: 0.25}\n",
    "testset = generator.generate_with_langchain_docs(documents,\n",
    "                                                 test_size=10,\n",
    "                                                 distributions=distribution,\n",
    "                                                 raise_exceptions=False)"
   ]
  },
  {
   "cell_type": "code",
   "execution_count": null,
   "metadata": {},
   "outputs": [],
   "source": [
    "test_df = testset.to_pandas().dropna()"
   ]
  },
  {
   "cell_type": "markdown",
   "metadata": {},
   "source": [
    "### Local Implementation of evaluating the RAG pipeline"
   ]
  },
  {
   "cell_type": "code",
   "execution_count": 52,
   "metadata": {},
   "outputs": [],
   "source": [
    "import pandas as pd\n",
    "test_df = pd.read_csv(\"./data/Test Data Paul Graham.csv\").dropna()"
   ]
  },
  {
   "cell_type": "code",
   "execution_count": 53,
   "metadata": {},
   "outputs": [],
   "source": [
    "def generate_response(query_engine, question):\n",
    "    response = query_engine.query(question)\n",
    "    return {\n",
    "        \"answer\": response.response,\n",
    "        \"contexts\": [c.node.get_content() for c in response.source_nodes],\n",
    "    }"
   ]
  },
  {
   "cell_type": "code",
   "execution_count": 55,
   "metadata": {},
   "outputs": [
    {
     "data": {
      "application/vnd.jupyter.widget-view+json": {
       "model_id": "52d4195949ed41ef8423db05614f7f1b",
       "version_major": 2,
       "version_minor": 0
      },
      "text/plain": [
       "  0%|          | 0/47 [00:00<?, ?it/s]"
      ]
     },
     "metadata": {},
     "output_type": "display_data"
    }
   ],
   "source": [
    "from datasets import Dataset\n",
    "from tqdm.auto import tqdm\n",
    "\n",
    "test_questions = test_df[\"question\"].values\n",
    "\n",
    "responses = [generate_response(query_engine,q) for q in tqdm(test_questions)]\n",
    "\n",
    "dataset_dict = {\n",
    "    \"question\": test_questions,\n",
    "    \"answer\": [response[\"answer\"] for response in responses],\n",
    "    \"contexts\": [response[\"contexts\"] for response in responses],\n",
    "    \"ground_truth\": test_df[\"ground_truth\"].values.tolist()\n",
    "}\n",
    "ragas_eval_dataset = Dataset.from_dict(dataset_dict)"
   ]
  },
  {
   "cell_type": "code",
   "execution_count": 56,
   "metadata": {},
   "outputs": [],
   "source": [
    "from langchain_community.embeddings import OllamaEmbeddings\n",
    "from langchain_community.llms import Ollama\n",
    "\n",
    "from ragas import evaluate\n",
    "from ragas.metrics import (\n",
    "    faithfulness,\n",
    "    answer_correctness,\n",
    "    context_recall,\n",
    "    context_precision,\n",
    ")"
   ]
  },
  {
   "cell_type": "code",
   "execution_count": 57,
   "metadata": {},
   "outputs": [
    {
     "data": {
      "application/vnd.jupyter.widget-view+json": {
       "model_id": "26b359f885574a9f92a05c34d10bfafc",
       "version_major": 2,
       "version_minor": 0
      },
      "text/plain": [
       "Evaluating:   0%|          | 0/188 [00:00<?, ?it/s]"
      ]
     },
     "metadata": {},
     "output_type": "display_data"
    },
    {
     "name": "stderr",
     "output_type": "stream",
     "text": [
      "Prompt fix_output_format failed to parse output: The output parser failed to parse the output including retries.\n",
      "Prompt fix_output_format failed to parse output: The output parser failed to parse the output including retries.\n",
      "Prompt fix_output_format failed to parse output: The output parser failed to parse the output including retries.\n",
      "Prompt long_form_answer_prompt failed to parse output: The output parser failed to parse the output including retries.\n",
      "Exception raised in Job[9]: RagasOutputParserException(The output parser failed to parse the output including retries.)\n",
      "Exception raised in Job[0]: TimeoutError()\n",
      "Exception raised in Job[1]: TimeoutError()\n",
      "Exception raised in Job[2]: TimeoutError()\n",
      "Exception raised in Job[4]: TimeoutError()\n",
      "Exception raised in Job[5]: TimeoutError()\n",
      "Exception raised in Job[6]: TimeoutError()\n",
      "Exception raised in Job[8]: TimeoutError()\n",
      "Exception raised in Job[10]: TimeoutError()\n",
      "Exception raised in Job[12]: TimeoutError()\n",
      "Exception raised in Job[13]: TimeoutError()\n",
      "Exception raised in Job[16]: TimeoutError()\n",
      "Exception raised in Job[17]: TimeoutError()\n",
      "Exception raised in Job[18]: TimeoutError()\n",
      "Exception raised in Job[19]: TimeoutError()\n",
      "Exception raised in Job[20]: TimeoutError()\n",
      "Exception raised in Job[21]: TimeoutError()\n",
      "Prompt fix_output_format failed to parse output: The output parser failed to parse the output including retries.\n",
      "Prompt fix_output_format failed to parse output: The output parser failed to parse the output including retries.\n",
      "Prompt fix_output_format failed to parse output: The output parser failed to parse the output including retries.\n",
      "Prompt context_precision_prompt failed to parse output: The output parser failed to parse the output including retries.\n",
      "Exception raised in Job[27]: RagasOutputParserException(The output parser failed to parse the output including retries.)\n",
      "Exception raised in Job[23]: TimeoutError()\n",
      "Exception raised in Job[24]: TimeoutError()\n",
      "Exception raised in Job[25]: TimeoutError()\n",
      "Exception raised in Job[26]: TimeoutError()\n",
      "Exception raised in Job[28]: TimeoutError()\n",
      "Exception raised in Job[29]: TimeoutError()\n",
      "Exception raised in Job[30]: TimeoutError()\n",
      "Exception raised in Job[31]: TimeoutError()\n",
      "Exception raised in Job[32]: TimeoutError()\n",
      "Exception raised in Job[33]: TimeoutError()\n",
      "Prompt fix_output_format failed to parse output: The output parser failed to parse the output including retries.\n",
      "Prompt fix_output_format failed to parse output: The output parser failed to parse the output including retries.\n",
      "Prompt fix_output_format failed to parse output: The output parser failed to parse the output including retries.\n",
      "Prompt context_precision_prompt failed to parse output: The output parser failed to parse the output including retries.\n",
      "Exception raised in Job[35]: RagasOutputParserException(The output parser failed to parse the output including retries.)\n",
      "Prompt fix_output_format failed to parse output: The output parser failed to parse the output including retries.\n",
      "Prompt fix_output_format failed to parse output: The output parser failed to parse the output including retries.\n",
      "Prompt fix_output_format failed to parse output: The output parser failed to parse the output including retries.\n",
      "Prompt context_recall_classification_prompt failed to parse output: The output parser failed to parse the output including retries.\n",
      "Exception raised in Job[34]: RagasOutputParserException(The output parser failed to parse the output including retries.)\n",
      "Exception raised in Job[37]: AttributeError('StringIO' object has no attribute 'sentences')\n",
      "Exception raised in Job[36]: AttributeError('StringIO' object has no attribute 'sentences')\n",
      "Prompt fix_output_format failed to parse output: The output parser failed to parse the output including retries.\n",
      "Prompt fix_output_format failed to parse output: The output parser failed to parse the output including retries.\n",
      "Prompt fix_output_format failed to parse output: The output parser failed to parse the output including retries.\n",
      "Prompt long_form_answer_prompt failed to parse output: The output parser failed to parse the output including retries.\n",
      "Exception raised in Job[40]: RagasOutputParserException(The output parser failed to parse the output including retries.)\n",
      "Exception raised in Job[49]: AttributeError('StringIO' object has no attribute 'sentences')\n",
      "Prompt fix_output_format failed to parse output: The output parser failed to parse the output including retries.\n",
      "Prompt fix_output_format failed to parse output: The output parser failed to parse the output including retries.\n",
      "Prompt fix_output_format failed to parse output: The output parser failed to parse the output including retries.\n",
      "Prompt long_form_answer_prompt failed to parse output: The output parser failed to parse the output including retries.\n",
      "Exception raised in Job[44]: RagasOutputParserException(The output parser failed to parse the output including retries.)\n",
      "Prompt fix_output_format failed to parse output: The output parser failed to parse the output including retries.\n",
      "Prompt fix_output_format failed to parse output: The output parser failed to parse the output including retries.\n",
      "Prompt fix_output_format failed to parse output: The output parser failed to parse the output including retries.\n",
      "Prompt context_precision_prompt failed to parse output: The output parser failed to parse the output including retries.\n",
      "Exception raised in Job[43]: RagasOutputParserException(The output parser failed to parse the output including retries.)\n",
      "Prompt fix_output_format failed to parse output: The output parser failed to parse the output including retries.\n",
      "Prompt fix_output_format failed to parse output: The output parser failed to parse the output including retries.\n",
      "Prompt fix_output_format failed to parse output: The output parser failed to parse the output including retries.\n",
      "Prompt long_form_answer_prompt failed to parse output: The output parser failed to parse the output including retries.\n",
      "Prompt fix_output_format failed to parse output: The output parser failed to parse the output including retries.\n",
      "Prompt fix_output_format failed to parse output: The output parser failed to parse the output including retries.\n",
      "Prompt fix_output_format failed to parse output: The output parser failed to parse the output including retries.\n",
      "Prompt context_recall_classification_prompt failed to parse output: The output parser failed to parse the output including retries.\n",
      "Exception raised in Job[41]: RagasOutputParserException(The output parser failed to parse the output including retries.)\n",
      "Exception raised in Job[46]: RagasOutputParserException(The output parser failed to parse the output including retries.)\n",
      "Prompt fix_output_format failed to parse output: The output parser failed to parse the output including retries.\n",
      "Prompt fix_output_format failed to parse output: The output parser failed to parse the output including retries.\n",
      "Prompt fix_output_format failed to parse output: The output parser failed to parse the output including retries.\n",
      "Prompt context_recall_classification_prompt failed to parse output: The output parser failed to parse the output including retries.\n",
      "Exception raised in Job[38]: RagasOutputParserException(The output parser failed to parse the output including retries.)\n",
      "Prompt fix_output_format failed to parse output: The output parser failed to parse the output including retries.\n",
      "Prompt fix_output_format failed to parse output: The output parser failed to parse the output including retries.\n",
      "Prompt fix_output_format failed to parse output: The output parser failed to parse the output including retries.\n",
      "Prompt long_form_answer_prompt failed to parse output: The output parser failed to parse the output including retries.\n",
      "Exception raised in Job[45]: RagasOutputParserException(The output parser failed to parse the output including retries.)\n",
      "Prompt fix_output_format failed to parse output: The output parser failed to parse the output including retries.\n",
      "Prompt fix_output_format failed to parse output: The output parser failed to parse the output including retries.\n",
      "Prompt fix_output_format failed to parse output: The output parser failed to parse the output including retries.\n",
      "Prompt context_precision_prompt failed to parse output: The output parser failed to parse the output including retries.\n",
      "Exception raised in Job[47]: RagasOutputParserException(The output parser failed to parse the output including retries.)\n",
      "Exception raised in Job[39]: TimeoutError()\n",
      "Exception raised in Job[42]: TimeoutError()\n",
      "Prompt fix_output_format failed to parse output: The output parser failed to parse the output including retries.\n",
      "Prompt fix_output_format failed to parse output: The output parser failed to parse the output including retries.\n",
      "Prompt fix_output_format failed to parse output: The output parser failed to parse the output including retries.\n",
      "Prompt context_recall_classification_prompt failed to parse output: The output parser failed to parse the output including retries.\n",
      "Exception raised in Job[50]: RagasOutputParserException(The output parser failed to parse the output including retries.)\n",
      "Exception raised in Job[48]: TimeoutError()\n",
      "Prompt fix_output_format failed to parse output: The output parser failed to parse the output including retries.\n",
      "Prompt fix_output_format failed to parse output: The output parser failed to parse the output including retries.\n",
      "Prompt fix_output_format failed to parse output: The output parser failed to parse the output including retries.\n",
      "Prompt long_form_answer_prompt failed to parse output: The output parser failed to parse the output including retries.\n",
      "Exception raised in Job[53]: RagasOutputParserException(The output parser failed to parse the output including retries.)\n",
      "Prompt fix_output_format failed to parse output: The output parser failed to parse the output including retries.\n",
      "Prompt fix_output_format failed to parse output: The output parser failed to parse the output including retries.\n",
      "Prompt fix_output_format failed to parse output: The output parser failed to parse the output including retries.\n",
      "Prompt context_precision_prompt failed to parse output: The output parser failed to parse the output including retries.\n",
      "Exception raised in Job[51]: RagasOutputParserException(The output parser failed to parse the output including retries.)\n",
      "Exception raised in Job[52]: TimeoutError()\n",
      "Prompt fix_output_format failed to parse output: The output parser failed to parse the output including retries.\n",
      "Prompt fix_output_format failed to parse output: The output parser failed to parse the output including retries.\n",
      "Prompt fix_output_format failed to parse output: The output parser failed to parse the output including retries.\n",
      "Prompt context_precision_prompt failed to parse output: The output parser failed to parse the output including retries.\n",
      "Exception raised in Job[55]: RagasOutputParserException(The output parser failed to parse the output including retries.)\n",
      "Prompt fix_output_format failed to parse output: The output parser failed to parse the output including retries.\n",
      "Prompt fix_output_format failed to parse output: The output parser failed to parse the output including retries.\n",
      "Prompt fix_output_format failed to parse output: The output parser failed to parse the output including retries.\n",
      "Prompt context_recall_classification_prompt failed to parse output: The output parser failed to parse the output including retries.\n",
      "Exception raised in Job[54]: RagasOutputParserException(The output parser failed to parse the output including retries.)\n",
      "Prompt fix_output_format failed to parse output: The output parser failed to parse the output including retries.\n",
      "Prompt fix_output_format failed to parse output: The output parser failed to parse the output including retries.\n",
      "Prompt fix_output_format failed to parse output: The output parser failed to parse the output including retries.\n",
      "Prompt long_form_answer_prompt failed to parse output: The output parser failed to parse the output including retries.\n",
      "Prompt fix_output_format failed to parse output: The output parser failed to parse the output including retries.\n",
      "Prompt fix_output_format failed to parse output: The output parser failed to parse the output including retries.\n",
      "Prompt fix_output_format failed to parse output: The output parser failed to parse the output including retries.\n",
      "Prompt context_precision_prompt failed to parse output: The output parser failed to parse the output including retries.\n",
      "Exception raised in Job[56]: RagasOutputParserException(The output parser failed to parse the output including retries.)\n",
      "Exception raised in Job[63]: RagasOutputParserException(The output parser failed to parse the output including retries.)\n",
      "Prompt fix_output_format failed to parse output: The output parser failed to parse the output including retries.\n",
      "Prompt fix_output_format failed to parse output: The output parser failed to parse the output including retries.\n",
      "Prompt fix_output_format failed to parse output: The output parser failed to parse the output including retries.\n",
      "Prompt context_precision_prompt failed to parse output: The output parser failed to parse the output including retries.\n",
      "Exception raised in Job[59]: RagasOutputParserException(The output parser failed to parse the output including retries.)\n",
      "Exception raised in Job[57]: TimeoutError()\n",
      "Exception raised in Job[58]: TimeoutError()\n",
      "Exception raised in Job[60]: TimeoutError()\n",
      "Prompt fix_output_format failed to parse output: The output parser failed to parse the output including retries.\n",
      "Prompt fix_output_format failed to parse output: The output parser failed to parse the output including retries.\n",
      "Prompt fix_output_format failed to parse output: The output parser failed to parse the output including retries.\n",
      "Prompt long_form_answer_prompt failed to parse output: The output parser failed to parse the output including retries.\n",
      "Prompt fix_output_format failed to parse output: The output parser failed to parse the output including retries.\n",
      "Prompt fix_output_format failed to parse output: The output parser failed to parse the output including retries.\n",
      "Prompt fix_output_format failed to parse output: The output parser failed to parse the output including retries.\n",
      "Prompt long_form_answer_prompt failed to parse output: The output parser failed to parse the output including retries.\n",
      "Exception raised in Job[64]: RagasOutputParserException(The output parser failed to parse the output including retries.)\n",
      "Exception raised in Job[65]: RagasOutputParserException(The output parser failed to parse the output including retries.)\n",
      "Prompt fix_output_format failed to parse output: The output parser failed to parse the output including retries.\n",
      "Prompt fix_output_format failed to parse output: The output parser failed to parse the output including retries.\n",
      "Prompt fix_output_format failed to parse output: The output parser failed to parse the output including retries.\n",
      "Prompt long_form_answer_prompt failed to parse output: The output parser failed to parse the output including retries.\n",
      "Prompt fix_output_format failed to parse output: The output parser failed to parse the output including retries.\n",
      "Prompt fix_output_format failed to parse output: The output parser failed to parse the output including retries.\n",
      "Prompt fix_output_format failed to parse output: The output parser failed to parse the output including retries.\n",
      "Prompt context_recall_classification_prompt failed to parse output: The output parser failed to parse the output including retries.\n",
      "Prompt fix_output_format failed to parse output: The output parser failed to parse the output including retries.\n",
      "Prompt fix_output_format failed to parse output: The output parser failed to parse the output including retries.\n",
      "Prompt fix_output_format failed to parse output: The output parser failed to parse the output including retries.\n",
      "Prompt long_form_answer_prompt failed to parse output: The output parser failed to parse the output including retries.\n",
      "Prompt fix_output_format failed to parse output: The output parser failed to parse the output including retries.\n",
      "Prompt fix_output_format failed to parse output: The output parser failed to parse the output including retries.\n",
      "Prompt fix_output_format failed to parse output: The output parser failed to parse the output including retries.\n",
      "Prompt long_form_answer_prompt failed to parse output: The output parser failed to parse the output including retries.\n",
      "Exception raised in Job[61]: RagasOutputParserException(The output parser failed to parse the output including retries.)\n",
      "Exception raised in Job[62]: RagasOutputParserException(The output parser failed to parse the output including retries.)\n",
      "Exception raised in Job[69]: RagasOutputParserException(The output parser failed to parse the output including retries.)\n",
      "Exception raised in Job[68]: RagasOutputParserException(The output parser failed to parse the output including retries.)\n",
      "Prompt fix_output_format failed to parse output: The output parser failed to parse the output including retries.\n",
      "Prompt fix_output_format failed to parse output: The output parser failed to parse the output including retries.\n",
      "Prompt fix_output_format failed to parse output: The output parser failed to parse the output including retries.\n",
      "Prompt context_recall_classification_prompt failed to parse output: The output parser failed to parse the output including retries.\n",
      "Exception raised in Job[66]: RagasOutputParserException(The output parser failed to parse the output including retries.)\n",
      "Prompt fix_output_format failed to parse output: The output parser failed to parse the output including retries.\n",
      "Prompt fix_output_format failed to parse output: The output parser failed to parse the output including retries.\n",
      "Prompt fix_output_format failed to parse output: The output parser failed to parse the output including retries.\n",
      "Prompt context_precision_prompt failed to parse output: The output parser failed to parse the output including retries.\n",
      "Exception raised in Job[67]: RagasOutputParserException(The output parser failed to parse the output including retries.)\n",
      "Prompt fix_output_format failed to parse output: The output parser failed to parse the output including retries.\n",
      "Prompt fix_output_format failed to parse output: The output parser failed to parse the output including retries.\n",
      "Prompt fix_output_format failed to parse output: The output parser failed to parse the output including retries.\n",
      "Prompt context_recall_classification_prompt failed to parse output: The output parser failed to parse the output including retries.\n",
      "Exception raised in Job[70]: RagasOutputParserException(The output parser failed to parse the output including retries.)\n",
      "Prompt fix_output_format failed to parse output: The output parser failed to parse the output including retries.\n",
      "Prompt fix_output_format failed to parse output: The output parser failed to parse the output including retries.\n",
      "Prompt fix_output_format failed to parse output: The output parser failed to parse the output including retries.\n",
      "Prompt context_recall_classification_prompt failed to parse output: The output parser failed to parse the output including retries.\n",
      "Exception raised in Job[78]: RagasOutputParserException(The output parser failed to parse the output including retries.)\n",
      "Exception raised in Job[72]: TimeoutError()\n",
      "Exception raised in Job[73]: TimeoutError()\n",
      "Exception raised in Job[74]: TimeoutError()\n",
      "Prompt fix_output_format failed to parse output: The output parser failed to parse the output including retries.\n",
      "Prompt fix_output_format failed to parse output: The output parser failed to parse the output including retries.\n",
      "Prompt fix_output_format failed to parse output: The output parser failed to parse the output including retries.\n",
      "Prompt long_form_answer_prompt failed to parse output: The output parser failed to parse the output including retries.\n",
      "Prompt fix_output_format failed to parse output: The output parser failed to parse the output including retries.\n",
      "Prompt fix_output_format failed to parse output: The output parser failed to parse the output including retries.\n",
      "Prompt fix_output_format failed to parse output: The output parser failed to parse the output including retries.\n",
      "Prompt context_precision_prompt failed to parse output: The output parser failed to parse the output including retries.\n",
      "Exception raised in Job[76]: RagasOutputParserException(The output parser failed to parse the output including retries.)\n",
      "Exception raised in Job[75]: RagasOutputParserException(The output parser failed to parse the output including retries.)\n",
      "Prompt fix_output_format failed to parse output: The output parser failed to parse the output including retries.\n",
      "Prompt fix_output_format failed to parse output: The output parser failed to parse the output including retries.\n",
      "Prompt fix_output_format failed to parse output: The output parser failed to parse the output including retries.\n",
      "Prompt long_form_answer_prompt failed to parse output: The output parser failed to parse the output including retries.\n",
      "Exception raised in Job[77]: RagasOutputParserException(The output parser failed to parse the output including retries.)\n",
      "Exception raised in Job[80]: AttributeError('StringIO' object has no attribute 'sentences')\n",
      "Exception raised in Job[81]: TimeoutError()\n",
      "Exception raised in Job[83]: TimeoutError()\n",
      "Exception raised in Job[84]: TimeoutError()\n",
      "Exception raised in Job[85]: TimeoutError()\n",
      "Prompt fix_output_format failed to parse output: The output parser failed to parse the output including retries.\n",
      "Prompt fix_output_format failed to parse output: The output parser failed to parse the output including retries.\n",
      "Prompt fix_output_format failed to parse output: The output parser failed to parse the output including retries.\n",
      "Prompt context_precision_prompt failed to parse output: The output parser failed to parse the output including retries.\n",
      "Exception raised in Job[87]: RagasOutputParserException(The output parser failed to parse the output including retries.)\n",
      "Prompt fix_output_format failed to parse output: The output parser failed to parse the output including retries.\n",
      "Prompt fix_output_format failed to parse output: The output parser failed to parse the output including retries.\n",
      "Prompt fix_output_format failed to parse output: The output parser failed to parse the output including retries.\n",
      "Prompt long_form_answer_prompt failed to parse output: The output parser failed to parse the output including retries.\n",
      "Exception raised in Job[88]: RagasOutputParserException(The output parser failed to parse the output including retries.)\n",
      "Exception raised in Job[86]: TimeoutError()\n",
      "Exception raised in Job[89]: TimeoutError()\n",
      "Exception raised in Job[90]: TimeoutError()\n",
      "Exception raised in Job[92]: AttributeError('StringIO' object has no attribute 'sentences')\n",
      "Exception raised in Job[91]: TimeoutError()\n",
      "Exception raised in Job[93]: TimeoutError()\n",
      "Exception raised in Job[96]: TimeoutError()\n",
      "Exception raised in Job[97]: TimeoutError()\n",
      "Exception raised in Job[98]: TimeoutError()\n",
      "Exception raised in Job[99]: TimeoutError()\n",
      "Exception raised in Job[100]: TimeoutError()\n",
      "Exception raised in Job[101]: TimeoutError()\n",
      "Exception raised in Job[102]: TimeoutError()\n",
      "Exception raised in Job[103]: TimeoutError()\n",
      "Exception raised in Job[104]: TimeoutError()\n",
      "Exception raised in Job[105]: TimeoutError()\n",
      "Exception raised in Job[106]: TimeoutError()\n",
      "Exception raised in Job[107]: TimeoutError()\n",
      "Prompt fix_output_format failed to parse output: The output parser failed to parse the output including retries.\n",
      "Prompt fix_output_format failed to parse output: The output parser failed to parse the output including retries.\n",
      "Prompt fix_output_format failed to parse output: The output parser failed to parse the output including retries.\n",
      "Prompt context_precision_prompt failed to parse output: The output parser failed to parse the output including retries.\n",
      "Exception raised in Job[111]: RagasOutputParserException(The output parser failed to parse the output including retries.)\n",
      "Prompt fix_output_format failed to parse output: The output parser failed to parse the output including retries.\n",
      "Prompt fix_output_format failed to parse output: The output parser failed to parse the output including retries.\n",
      "Prompt fix_output_format failed to parse output: The output parser failed to parse the output including retries.\n",
      "Prompt long_form_answer_prompt failed to parse output: The output parser failed to parse the output including retries.\n",
      "Exception raised in Job[108]: RagasOutputParserException(The output parser failed to parse the output including retries.)\n",
      "Exception raised in Job[109]: TimeoutError()\n",
      "Exception raised in Job[110]: TimeoutError()\n",
      "Exception raised in Job[112]: TimeoutError()\n",
      "Exception raised in Job[113]: TimeoutError()\n",
      "Exception raised in Job[114]: TimeoutError()\n",
      "Exception raised in Job[116]: TimeoutError()\n",
      "Exception raised in Job[117]: TimeoutError()\n",
      "Exception raised in Job[118]: TimeoutError()\n",
      "Prompt fix_output_format failed to parse output: The output parser failed to parse the output including retries.\n",
      "Prompt fix_output_format failed to parse output: The output parser failed to parse the output including retries.\n",
      "Prompt fix_output_format failed to parse output: The output parser failed to parse the output including retries.\n",
      "Prompt context_recall_classification_prompt failed to parse output: The output parser failed to parse the output including retries.\n",
      "Exception raised in Job[122]: RagasOutputParserException(The output parser failed to parse the output including retries.)\n",
      "Prompt fix_output_format failed to parse output: The output parser failed to parse the output including retries.\n",
      "Prompt fix_output_format failed to parse output: The output parser failed to parse the output including retries.\n",
      "Prompt fix_output_format failed to parse output: The output parser failed to parse the output including retries.\n",
      "Prompt context_precision_prompt failed to parse output: The output parser failed to parse the output including retries.\n",
      "Exception raised in Job[119]: RagasOutputParserException(The output parser failed to parse the output including retries.)\n",
      "Exception raised in Job[120]: TimeoutError()\n",
      "Exception raised in Job[121]: TimeoutError()\n",
      "Prompt fix_output_format failed to parse output: The output parser failed to parse the output including retries.\n",
      "Prompt fix_output_format failed to parse output: The output parser failed to parse the output including retries.\n",
      "Prompt fix_output_format failed to parse output: The output parser failed to parse the output including retries.\n",
      "Prompt context_precision_prompt failed to parse output: The output parser failed to parse the output including retries.\n",
      "Exception raised in Job[123]: RagasOutputParserException(The output parser failed to parse the output including retries.)\n",
      "Exception raised in Job[124]: TimeoutError()\n",
      "Exception raised in Job[125]: TimeoutError()\n",
      "Exception raised in Job[126]: TimeoutError()\n",
      "Exception raised in Job[127]: TimeoutError()\n",
      "Exception raised in Job[128]: TimeoutError()\n",
      "Exception raised in Job[129]: TimeoutError()\n",
      "Prompt fix_output_format failed to parse output: The output parser failed to parse the output including retries.\n",
      "Prompt fix_output_format failed to parse output: The output parser failed to parse the output including retries.\n",
      "Prompt fix_output_format failed to parse output: The output parser failed to parse the output including retries.\n",
      "Prompt long_form_answer_prompt failed to parse output: The output parser failed to parse the output including retries.\n",
      "Exception raised in Job[136]: RagasOutputParserException(The output parser failed to parse the output including retries.)\n",
      "Exception raised in Job[130]: TimeoutError()\n",
      "Exception raised in Job[131]: TimeoutError()\n",
      "Exception raised in Job[132]: TimeoutError()\n",
      "Exception raised in Job[133]: TimeoutError()\n",
      "Exception raised in Job[134]: TimeoutError()\n",
      "Exception raised in Job[135]: TimeoutError()\n",
      "Exception raised in Job[137]: TimeoutError()\n",
      "Exception raised in Job[138]: TimeoutError()\n",
      "Prompt fix_output_format failed to parse output: The output parser failed to parse the output including retries.\n",
      "Prompt fix_output_format failed to parse output: The output parser failed to parse the output including retries.\n",
      "Prompt fix_output_format failed to parse output: The output parser failed to parse the output including retries.\n",
      "Prompt long_form_answer_prompt failed to parse output: The output parser failed to parse the output including retries.\n",
      "Exception raised in Job[141]: RagasOutputParserException(The output parser failed to parse the output including retries.)\n",
      "Prompt fix_output_format failed to parse output: The output parser failed to parse the output including retries.\n",
      "Prompt fix_output_format failed to parse output: The output parser failed to parse the output including retries.\n",
      "Prompt fix_output_format failed to parse output: The output parser failed to parse the output including retries.\n",
      "Prompt long_form_answer_prompt failed to parse output: The output parser failed to parse the output including retries.\n",
      "Exception raised in Job[144]: RagasOutputParserException(The output parser failed to parse the output including retries.)\n",
      "Exception raised in Job[140]: TimeoutError()\n",
      "Exception raised in Job[142]: TimeoutError()\n",
      "Exception raised in Job[143]: TimeoutError()\n",
      "Exception raised in Job[146]: AttributeError('StringIO' object has no attribute 'classifications')\n",
      "Exception raised in Job[145]: TimeoutError()\n",
      "Prompt fix_output_format failed to parse output: The output parser failed to parse the output including retries.\n",
      "Prompt fix_output_format failed to parse output: The output parser failed to parse the output including retries.\n",
      "Prompt fix_output_format failed to parse output: The output parser failed to parse the output including retries.\n",
      "Prompt long_form_answer_prompt failed to parse output: The output parser failed to parse the output including retries.\n",
      "Exception raised in Job[153]: RagasOutputParserException(The output parser failed to parse the output including retries.)\n",
      "All inputs must have verdict attribute\n",
      "Exception raised in Job[147]: ValidationError(2 validation errors for Verification\n",
      "reason\n",
      "  Field required [type=missing, input_value={'text': ''}, input_type=dict]\n",
      "    For further information visit https://errors.pydantic.dev/2.9/v/missing\n",
      "verdict\n",
      "  Field required [type=missing, input_value={'text': ''}, input_type=dict]\n",
      "    For further information visit https://errors.pydantic.dev/2.9/v/missing)\n",
      "Prompt fix_output_format failed to parse output: The output parser failed to parse the output including retries.\n",
      "Prompt fix_output_format failed to parse output: The output parser failed to parse the output including retries.\n",
      "Prompt fix_output_format failed to parse output: The output parser failed to parse the output including retries.\n",
      "Prompt long_form_answer_prompt failed to parse output: The output parser failed to parse the output including retries.\n",
      "Exception raised in Job[152]: RagasOutputParserException(The output parser failed to parse the output including retries.)\n",
      "Prompt fix_output_format failed to parse output: The output parser failed to parse the output including retries.\n",
      "Prompt fix_output_format failed to parse output: The output parser failed to parse the output including retries.\n",
      "Prompt fix_output_format failed to parse output: The output parser failed to parse the output including retries.\n",
      "Prompt long_form_answer_prompt failed to parse output: The output parser failed to parse the output including retries.\n",
      "Prompt fix_output_format failed to parse output: The output parser failed to parse the output including retries.\n",
      "Prompt fix_output_format failed to parse output: The output parser failed to parse the output including retries.\n",
      "Prompt fix_output_format failed to parse output: The output parser failed to parse the output including retries.\n",
      "Prompt context_precision_prompt failed to parse output: The output parser failed to parse the output including retries.\n",
      "Exception raised in Job[149]: RagasOutputParserException(The output parser failed to parse the output including retries.)\n",
      "Exception raised in Job[151]: RagasOutputParserException(The output parser failed to parse the output including retries.)\n",
      "Exception raised in Job[148]: TimeoutError()\n",
      "Exception raised in Job[150]: TimeoutError()\n",
      "Prompt fix_output_format failed to parse output: The output parser failed to parse the output including retries.\n",
      "Prompt fix_output_format failed to parse output: The output parser failed to parse the output including retries.\n",
      "Prompt fix_output_format failed to parse output: The output parser failed to parse the output including retries.\n",
      "Prompt context_recall_classification_prompt failed to parse output: The output parser failed to parse the output including retries.\n",
      "Exception raised in Job[154]: RagasOutputParserException(The output parser failed to parse the output including retries.)\n",
      "Prompt fix_output_format failed to parse output: The output parser failed to parse the output including retries.\n",
      "Prompt fix_output_format failed to parse output: The output parser failed to parse the output including retries.\n",
      "Prompt fix_output_format failed to parse output: The output parser failed to parse the output including retries.\n",
      "Prompt context_precision_prompt failed to parse output: The output parser failed to parse the output including retries.\n",
      "Prompt fix_output_format failed to parse output: The output parser failed to parse the output including retries.\n",
      "Prompt fix_output_format failed to parse output: The output parser failed to parse the output including retries.\n",
      "Prompt fix_output_format failed to parse output: The output parser failed to parse the output including retries.\n",
      "Prompt context_recall_classification_prompt failed to parse output: The output parser failed to parse the output including retries.\n",
      "Exception raised in Job[155]: RagasOutputParserException(The output parser failed to parse the output including retries.)\n",
      "Exception raised in Job[158]: RagasOutputParserException(The output parser failed to parse the output including retries.)\n",
      "Prompt fix_output_format failed to parse output: The output parser failed to parse the output including retries.\n",
      "Prompt fix_output_format failed to parse output: The output parser failed to parse the output including retries.\n",
      "Prompt fix_output_format failed to parse output: The output parser failed to parse the output including retries.\n",
      "Prompt context_precision_prompt failed to parse output: The output parser failed to parse the output including retries.\n",
      "Exception raised in Job[159]: RagasOutputParserException(The output parser failed to parse the output including retries.)\n",
      "Exception raised in Job[156]: TimeoutError()\n",
      "Exception raised in Job[157]: TimeoutError()\n",
      "Prompt fix_output_format failed to parse output: The output parser failed to parse the output including retries.\n",
      "Prompt fix_output_format failed to parse output: The output parser failed to parse the output including retries.\n",
      "Prompt fix_output_format failed to parse output: The output parser failed to parse the output including retries.\n",
      "Prompt long_form_answer_prompt failed to parse output: The output parser failed to parse the output including retries.\n",
      "Exception raised in Job[160]: RagasOutputParserException(The output parser failed to parse the output including retries.)\n",
      "Prompt fix_output_format failed to parse output: The output parser failed to parse the output including retries.\n",
      "Prompt fix_output_format failed to parse output: The output parser failed to parse the output including retries.\n",
      "Prompt fix_output_format failed to parse output: The output parser failed to parse the output including retries.\n",
      "Prompt long_form_answer_prompt failed to parse output: The output parser failed to parse the output including retries.\n",
      "Exception raised in Job[164]: RagasOutputParserException(The output parser failed to parse the output including retries.)\n",
      "Exception raised in Job[161]: TimeoutError()\n",
      "Exception raised in Job[162]: TimeoutError()\n",
      "Prompt fix_output_format failed to parse output: The output parser failed to parse the output including retries.\n",
      "Prompt fix_output_format failed to parse output: The output parser failed to parse the output including retries.\n",
      "Prompt fix_output_format failed to parse output: The output parser failed to parse the output including retries.\n",
      "Prompt context_recall_classification_prompt failed to parse output: The output parser failed to parse the output including retries.\n",
      "Exception raised in Job[170]: RagasOutputParserException(The output parser failed to parse the output including retries.)\n",
      "Exception raised in Job[163]: TimeoutError()\n",
      "Exception raised in Job[165]: TimeoutError()\n",
      "Prompt fix_output_format failed to parse output: The output parser failed to parse the output including retries.\n",
      "Prompt fix_output_format failed to parse output: The output parser failed to parse the output including retries.\n",
      "Prompt fix_output_format failed to parse output: The output parser failed to parse the output including retries.\n",
      "Prompt context_precision_prompt failed to parse output: The output parser failed to parse the output including retries.\n",
      "Exception raised in Job[171]: RagasOutputParserException(The output parser failed to parse the output including retries.)\n",
      "Exception raised in Job[166]: TimeoutError()\n",
      "Exception raised in Job[168]: TimeoutError()\n",
      "Exception raised in Job[169]: TimeoutError()\n",
      "Exception raised in Job[176]: AttributeError('StringIO' object has no attribute 'sentences')\n",
      "Prompt fix_output_format failed to parse output: The output parser failed to parse the output including retries.\n",
      "Prompt fix_output_format failed to parse output: The output parser failed to parse the output including retries.\n",
      "Prompt fix_output_format failed to parse output: The output parser failed to parse the output including retries.\n",
      "Prompt long_form_answer_prompt failed to parse output: The output parser failed to parse the output including retries.\n",
      "Exception raised in Job[173]: RagasOutputParserException(The output parser failed to parse the output including retries.)\n",
      "Prompt fix_output_format failed to parse output: The output parser failed to parse the output including retries.\n",
      "Prompt fix_output_format failed to parse output: The output parser failed to parse the output including retries.\n",
      "Prompt fix_output_format failed to parse output: The output parser failed to parse the output including retries.\n",
      "Prompt long_form_answer_prompt failed to parse output: The output parser failed to parse the output including retries.\n",
      "Prompt fix_output_format failed to parse output: The output parser failed to parse the output including retries.\n",
      "Prompt fix_output_format failed to parse output: The output parser failed to parse the output including retries.\n",
      "Prompt fix_output_format failed to parse output: The output parser failed to parse the output including retries.\n",
      "Prompt context_precision_prompt failed to parse output: The output parser failed to parse the output including retries.\n",
      "Exception raised in Job[172]: RagasOutputParserException(The output parser failed to parse the output including retries.)\n",
      "Exception raised in Job[179]: RagasOutputParserException(The output parser failed to parse the output including retries.)\n",
      "Exception raised in Job[177]: AttributeError('StringIO' object has no attribute 'sentences')\n",
      "Exception raised in Job[174]: TimeoutError()\n",
      "Exception raised in Job[175]: TimeoutError()\n",
      "Prompt fix_output_format failed to parse output: The output parser failed to parse the output including retries.\n",
      "Prompt fix_output_format failed to parse output: The output parser failed to parse the output including retries.\n",
      "Prompt fix_output_format failed to parse output: The output parser failed to parse the output including retries.\n",
      "Prompt long_form_answer_prompt failed to parse output: The output parser failed to parse the output including retries.\n",
      "Exception raised in Job[181]: RagasOutputParserException(The output parser failed to parse the output including retries.)\n",
      "Exception raised in Job[178]: TimeoutError()\n",
      "Exception raised in Job[180]: TimeoutError()\n",
      "Exception raised in Job[182]: TimeoutError()\n",
      "Exception raised in Job[183]: TimeoutError()\n",
      "Exception raised in Job[184]: TimeoutError()\n",
      "Exception raised in Job[185]: TimeoutError()\n",
      "Exception raised in Job[186]: TimeoutError()\n",
      "Prompt fix_output_format failed to parse output: The output parser failed to parse the output including retries.\n",
      "Prompt fix_output_format failed to parse output: The output parser failed to parse the output including retries.\n",
      "Prompt fix_output_format failed to parse output: The output parser failed to parse the output including retries.\n",
      "Prompt context_precision_prompt failed to parse output: The output parser failed to parse the output including retries.\n",
      "Exception raised in Job[187]: RagasOutputParserException(The output parser failed to parse the output including retries.)\n"
     ]
    }
   ],
   "source": [
    "metrics = [faithfulness, answer_correctness,\n",
    "           context_recall, context_precision]\n",
    "\n",
    "critic_llm = Ollama(model=\"llama3.2:1b\")\n",
    "\n",
    "ollama_emb = OllamaEmbeddings(model=\"nomic-embed-text\")\n",
    "\n",
    "evaluation_result = evaluate(\n",
    "    llm=critic_llm,\n",
    "    embeddings=ollama_emb,\n",
    "    dataset=ragas_eval_dataset,\n",
    "    metrics=metrics\n",
    ")"
   ]
  },
  {
   "cell_type": "code",
   "execution_count": 59,
   "metadata": {},
   "outputs": [],
   "source": [
    "eval_scores_df = pd.DataFrame(evaluation_result.scores)"
   ]
  },
  {
   "cell_type": "code",
   "execution_count": null,
   "metadata": {},
   "outputs": [],
   "source": [
    "evaluation_result"
   ]
  },
  {
   "cell_type": "code",
   "execution_count": null,
   "metadata": {},
   "outputs": [],
   "source": []
  }
 ],
 "metadata": {
  "kernelspec": {
   "display_name": "Python 3.9(torch cuda)",
   "language": "python",
   "name": "pytorch"
  },
  "language_info": {
   "codemirror_mode": {
    "name": "ipython",
    "version": 3
   },
   "file_extension": ".py",
   "mimetype": "text/x-python",
   "name": "python",
   "nbconvert_exporter": "python",
   "pygments_lexer": "ipython3",
   "version": "3.9.18"
  }
 },
 "nbformat": 4,
 "nbformat_minor": 2
}
