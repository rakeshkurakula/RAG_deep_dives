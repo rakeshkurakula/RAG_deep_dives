{
 "cells": [
  {
   "cell_type": "markdown",
   "metadata": {},
   "source": [
    "### Multi Modal Data with LLms\n",
    "\n",
    "- using unstructured\n",
    "- Generate text summary for images\n",
    "- using image summary embeddings and text embeddings pairs in the VectorDB"
   ]
  },
  {
   "cell_type": "code",
   "execution_count": 1,
   "metadata": {},
   "outputs": [],
   "source": [
    "# %pip install unstructured==0.16.6 \n",
    "# %pip install pdfminer.six \n",
    "# %pip install pillow \n",
    "# %pip install pi_heif\n",
    "# %pip install unstructured_inference \n",
    "# %pip install poppler-utils\n",
    "# %pip install pdf2image\n",
    "# %conda install -c conda-forge poppler  --y\n",
    "# %pip install unstructured_pytesseract \n",
    "# %conda install -c conda-forge tesseract --y"
   ]
  },
  {
   "cell_type": "markdown",
   "metadata": {},
   "source": [
    "### Importing the required components"
   ]
  },
  {
   "cell_type": "code",
   "execution_count": 2,
   "metadata": {},
   "outputs": [],
   "source": [
    "# %pip install --upgrade opencv-python opencv-python-headless\n",
    "# %pip install --upgrade layoutparser"
   ]
  },
  {
   "cell_type": "code",
   "execution_count": 3,
   "metadata": {},
   "outputs": [],
   "source": [
    "from unstructured.partition.pdf import partition_pdf"
   ]
  },
  {
   "cell_type": "markdown",
   "metadata": {},
   "source": [
    "### Parsing the PDF"
   ]
  },
  {
   "cell_type": "code",
   "execution_count": 14,
   "metadata": {},
   "outputs": [],
   "source": [
    "file_path = 'data/Attention.pdf'\n",
    "\n",
    "chunks = partition_pdf(\n",
    "    filename =file_path,\n",
    "    infer_table_structure=True,\n",
    "    strategy=\"hi_res\",\n",
    "    extract_image_block_types=[\"Image\", \"Table\"],\n",
    "    extract_image_block_to_payload=True,\n",
    "    chunking_strategy=\"by_title\",\n",
    "    max_characters=10000,\n",
    "    combine_text_under_n_chars=2000,\n",
    "    new_after_n_char=6000\n",
    ")"
   ]
  },
  {
   "cell_type": "code",
   "execution_count": 15,
   "metadata": {},
   "outputs": [
    {
     "name": "stdout",
     "output_type": "stream",
     "text": [
      "[<unstructured.documents.elements.CompositeElement object at 0x368019ee0>, <unstructured.documents.elements.CompositeElement object at 0x3649c4670>]\n"
     ]
    }
   ],
   "source": [
    "print(chunks[:2])"
   ]
  },
  {
   "cell_type": "code",
   "execution_count": 16,
   "metadata": {},
   "outputs": [
    {
     "data": {
      "text/markdown": [
       "3 Model Architecture\n",
       "\n",
       "Most competitive neural sequence transduction models have an encoder-decoder structure [5] [2] 35). Here, the encoder maps an input sequence of symbol representations (21, ...,%,,) to a sequence of continuous representations z = (z1,...,2n). Given z, the decoder then generates an output sequence (yj, ..., Ym) of symbols one element at a time. At each step the model is auto-regressive , consuming the previously generated symbols as additional input when generating the next.\n",
       "\n",
       "Output\n",
       "\n",
       "Probabilities Linear Add & Norm Feed Forward Add & Norm Multi-Head Attention Add & Norm Nx Masked Multi-Head Multi-Head Attention Attention Se a, ee a, Positional Positional Encoding @ © @ Encoding Input Output Embedding Embedding Inputs Outputs (shifted right)\n",
       "\n",
       "Figure 1: The Transformer - model architecture.\n",
       "\n",
       "The Transformer follows this overall architecture using stacked self-attention and point-wise, fully connected layers for both the encoder and decoder, shown in the left and right halves of Figure[I] respectively.\n",
       "\n",
       "3.1 Encoder and Decoder Stacks\n",
       "\n",
       "Encoder: The encoder is composed of a stack of N = 6 identical layers. Each layer has two sub-layers. The first is a multi-head self-attention mechanism, and the second is a simple, position- wise fully connected feed-forward network. We employ a residual connection around each of the two sub-layers, followed by layer normalization [I]. That is, the output of each sub-layer is LayerNorm(x + Sublayer(x)), where Sublayer() is the function implemented by the sub-layer itself. To facilitate these residual connections, all sub-layers in the model, as well as the embedding layers, produce outputs of dimension dmode = 512.\n",
       "\n",
       "Decoder: The decoder is also composed of a stack of N = 6 identical layers. In addition to the two sub-layers in each encoder layer, the decoder inserts a third sub-layer, which performs multi-head attention over the output of the encoder stack. Similar to the encoder, we employ residual connections around each of the sub-layers, followed by layer normalization. We also modify the self-attention sub-layer in the decoder stack to prevent positions from attending to subsequent positions. This masking, combined with fact that the output embeddings are offset by one position, ensures that the predictions for position i can depend only on the known outputs at positions less than 7."
      ],
      "text/plain": [
       "<IPython.core.display.Markdown object>"
      ]
     },
     "metadata": {},
     "output_type": "display_data"
    }
   ],
   "source": [
    "from IPython.display import Markdown, display\n",
    "\n",
    "display(Markdown(str(chunks[2].text)))"
   ]
  },
  {
   "cell_type": "code",
   "execution_count": 17,
   "metadata": {},
   "outputs": [
    {
     "data": {
      "text/plain": [
       "[<unstructured.documents.elements.Title at 0x368a49160>,\n",
       " <unstructured.documents.elements.NarrativeText at 0x368a492b0>,\n",
       " <unstructured.documents.elements.Title at 0x368090220>,\n",
       " <unstructured.documents.elements.Image at 0x368a49ac0>,\n",
       " <unstructured.documents.elements.FigureCaption at 0x368a49e50>,\n",
       " <unstructured.documents.elements.NarrativeText at 0x368a49c40>,\n",
       " <unstructured.documents.elements.Title at 0x368a49fd0>,\n",
       " <unstructured.documents.elements.NarrativeText at 0x368a49790>,\n",
       " <unstructured.documents.elements.NarrativeText at 0x368a49040>]"
      ]
     },
     "execution_count": 17,
     "metadata": {},
     "output_type": "execute_result"
    }
   ],
   "source": [
    "chunks[2].metadata.orig_elements"
   ]
  },
  {
   "cell_type": "markdown",
   "metadata": {},
   "source": [
    "-- We got the metadata for the image, Title, and text"
   ]
  },
  {
   "cell_type": "code",
   "execution_count": 18,
   "metadata": {},
   "outputs": [
    {
     "data": {
      "text/html": [
       "<table><tr><td>Layer Type</td><td>Complexity per Layer</td><td>Sequential Operations</td><td>Maximum Path Length</td></tr><tr><td>Self-Attention</td><td>O(n? - d)</td><td>O(1)</td><td>O(1)</td></tr><tr><td>Recurrent</td><td>O(n- d?)</td><td>O(n)</td><td>O(n)</td></tr><tr><td>Convolutional</td><td>O(k-n-d?)</td><td>O(1)</td><td>O(logy(n))</td></tr><tr><td>Self-Attention (restricted)</td><td>O(r-n-d)</td><td>ol)</td><td>O(n/r)</td></tr></table>"
      ],
      "text/plain": [
       "<IPython.core.display.HTML object>"
      ]
     },
     "metadata": {},
     "output_type": "display_data"
    }
   ],
   "source": [
    "from IPython.display import Markdown, display,HTML\n",
    "display(HTML(chunks[6].metadata.text_as_html))"
   ]
  },
  {
   "cell_type": "markdown",
   "metadata": {},
   "source": [
    "### Separate images, texts and tables"
   ]
  },
  {
   "cell_type": "code",
   "execution_count": 19,
   "metadata": {},
   "outputs": [
    {
     "data": {
      "text/plain": [
       "[<unstructured.documents.elements.CompositeElement at 0x368019ee0>,\n",
       " <unstructured.documents.elements.CompositeElement at 0x3649c4670>,\n",
       " <unstructured.documents.elements.CompositeElement at 0x368019b20>,\n",
       " <unstructured.documents.elements.CompositeElement at 0x3649c4640>,\n",
       " <unstructured.documents.elements.CompositeElement at 0x3564f8fa0>,\n",
       " <unstructured.documents.elements.CompositeElement at 0x3564f8fd0>,\n",
       " <unstructured.documents.elements.Table at 0x355f19670>,\n",
       " <unstructured.documents.elements.CompositeElement at 0x3564f8ac0>,\n",
       " <unstructured.documents.elements.CompositeElement at 0x3684b5940>,\n",
       " <unstructured.documents.elements.Table at 0x3684b5a90>,\n",
       " <unstructured.documents.elements.CompositeElement at 0x355f136a0>,\n",
       " <unstructured.documents.elements.CompositeElement at 0x368a3e4f0>,\n",
       " <unstructured.documents.elements.Table at 0x368a3e520>,\n",
       " <unstructured.documents.elements.CompositeElement at 0x3684b5040>,\n",
       " <unstructured.documents.elements.Table at 0x3684c5250>,\n",
       " <unstructured.documents.elements.CompositeElement at 0x3684c5e50>,\n",
       " <unstructured.documents.elements.CompositeElement at 0x355f14df0>]"
      ]
     },
     "execution_count": 19,
     "metadata": {},
     "output_type": "execute_result"
    }
   ],
   "source": [
    "chunks"
   ]
  },
  {
   "cell_type": "code",
   "execution_count": 20,
   "metadata": {},
   "outputs": [],
   "source": [
    "import unstructured\n",
    "\n",
    "texts, tables, images = [], [], []\n",
    "\n",
    "for chunk in chunks:\n",
    "    if isinstance(chunk, unstructured.documents.elements.Table):\n",
    "        tables.append(chunk)\n",
    "    elif isinstance(chunk, unstructured.documents.elements.CompositeElement):\n",
    "        texts.append(chunk)\n",
    "\n",
    "        chunk_elements = chunk.metadata.orig_elements\n",
    "\n",
    "        # iterate over all elements of this chunk\n",
    "        for element in chunk_elements:\n",
    "            if isinstance(element, unstructured.documents.elements.Image):\n",
    "                images.append(element.metadata.image_base64)"
   ]
  },
  {
   "cell_type": "code",
   "execution_count": 21,
   "metadata": {},
   "outputs": [
    {
     "name": "stdout",
     "output_type": "stream",
     "text": [
      "Total Texts: 13\n",
      "Total Tables: 4\n",
      "Total Images: 6\n"
     ]
    }
   ],
   "source": [
    "print(f\"Total Texts:\", len(texts))\n",
    "print(f\"Total Tables:\", len(tables))\n",
    "print(f\"Total Images:\", len(images))"
   ]
  },
  {
   "cell_type": "code",
   "execution_count": 22,
   "metadata": {},
   "outputs": [
    {
     "data": {
      "image/jpeg": "[encoded data removed]",
      "text/plain": [
       "<IPython.core.display.Image object>"
      ]
     },
     "metadata": {},
     "output_type": "display_data"
    }
   ],
   "source": [
    "import base64\n",
    "from IPython.display import Image,display\n",
    "\n",
    "image_data = base64.b64decode(images[1])\n",
    "display(Image(data=image_data))"
   ]
  },
  {
   "cell_type": "code",
   "execution_count": 23,
   "metadata": {},
   "outputs": [],
   "source": [
    "## Storing the abovek images as local files before we can pass them to the multimodal LLM\n",
    "\n",
    "import base64\n",
    "from IPython.display import Image,display\n",
    "\n",
    "for idx, image in enumerate(images):\n",
    "    \n",
    "    image_data = base64.b64decode(image)\n",
    "\n",
    "    path = f\"data/image_{idx}.jpeg\"\n",
    "\n",
    "    with open(path, \"wb\") as f:\n",
    "        f.write(image_data)"
   ]
  },
  {
   "cell_type": "markdown",
   "metadata": {},
   "source": [
    "### Summarize images, texts and tables"
   ]
  },
  {
   "cell_type": "code",
   "execution_count": 24,
   "metadata": {},
   "outputs": [],
   "source": [
    "## summarize images\n",
    "\n",
    "import ollama\n",
    "\n",
    "def get_image_summary(file_path):\n",
    "    \n",
    "    response = ollama.chat(\n",
    "        model = 'llama3.2-vision',\n",
    "        messages=[{\n",
    "            'role': 'user',\n",
    "            'content': 'Summarize this , for better redability and mathematical representation',\n",
    "            'iamges': [file_path]\n",
    "        }]\n",
    "    )\n",
    "    return response.message_content\n"
   ]
  },
  {
   "cell_type": "code",
   "execution_count": 25,
   "metadata": {},
   "outputs": [],
   "source": [
    "from tqdm import tqdm"
   ]
  },
  {
   "cell_type": "code",
   "execution_count": null,
   "metadata": {},
   "outputs": [],
   "source": [
    "\n",
    "image_summaries = [get_image_summary(f\"image_{i+1}.jpeg\") \\\n",
    "                   for i in tqdm(range(len(images)))]"
   ]
  },
  {
   "cell_type": "code",
   "execution_count": null,
   "metadata": {},
   "outputs": [],
   "source": [
    "import pickle\n",
    "with open(\"static/image_summaries.pkl\", \"wb\") as f:\n",
    "    pickle.dump(image_summaries, f)"
   ]
  },
  {
   "cell_type": "code",
   "execution_count": 27,
   "metadata": {},
   "outputs": [],
   "source": [
    "import pickle\n",
    "with open(\"static/image_summaries.pkl\", \"rb\") as f:\n",
    "    image_summaries = pickle.load(f)"
   ]
  },
  {
   "cell_type": "code",
   "execution_count": 28,
   "metadata": {},
   "outputs": [
    {
     "data": {
      "text/markdown": [
       "**Overview of the Image**\n",
       "\n",
       "The image presents a detailed illustration of two types of attention mechanisms: **Scaled Dot-Product Attention** and **Multi-Head Attention**. These concepts are central to various applications in machine learning, particularly in transformer models.\n",
       "\n",
       "**Scaled Dot-Product Attention**\n",
       "\n",
       "This section illustrates the scaled dot-product attention mechanism. It consists of three primary components:\n",
       "\n",
       "*   **Query (Q)**: The input vector that represents the information being queried.\n",
       "*   **Key (K)**: The input vector that represents the information relevant to the query.\n",
       "*   **Value (V)**: The input vector that provides additional context or relevance.\n",
       "\n",
       "The scaled dot-product attention mechanism calculates the similarity between the query and key vectors, then scales this similarity by a factor of 1/sqrt(d), where d is the dimensionality of the vectors. This scaling helps prevent the dot product from growing too large as the sequence length increases. The final output is obtained by taking the weighted sum of the value vectors based on their attention scores.\n",
       "\n",
       "**Multi-Head Attention**\n",
       "\n",
       "This section demonstrates the multi-head attention mechanism, which is a key component of transformer models. It involves applying multiple instances of scaled dot-product attention in parallel to different subsets of the input sequence. Each head attends to different aspects of the input and combines these attentions through concatenation or averaging.\n",
       "\n",
       "The benefits of multi-head attention include:\n",
       "\n",
       "*   **Improved Representation Learning**: By attending to different aspects of the input, each head can capture distinct information, leading to more comprehensive representations.\n",
       "*   **Robustness and Generalization**: The combination of multiple heads enhances model robustness against various tasks and improves generalizability.\n",
       "\n",
       "**Key Takeaways**\n",
       "\n",
       "The image effectively illustrates the inner workings of two critical attention mechanisms in deep learning. Understanding these concepts is essential for developing effective transformer models that can handle complex natural language processing tasks with high accuracy and efficiency."
      ],
      "text/plain": [
       "<IPython.core.display.Markdown object>"
      ]
     },
     "metadata": {},
     "output_type": "display_data"
    }
   ],
   "source": [
    "from IPython.display import Markdown, display\n",
    "display(Markdown(image_summaries[1]))"
   ]
  },
  {
   "cell_type": "code",
   "execution_count": 29,
   "metadata": {},
   "outputs": [
    {
     "name": "stderr",
     "output_type": "stream",
     "text": [
      "100%|██████████| 13/13 [01:19<00:00,  6.10s/it]\n"
     ]
    }
   ],
   "source": [
    "## summarize text\n",
    "\n",
    "def get_text_summary(text):\n",
    "\n",
    "    response = ollama.chat(\n",
    "        model = 'llama3.2:1b',\n",
    "        messages = [{\n",
    "            'role': 'user',\n",
    "            'content': f'Summarize this text: {text}'\n",
    "        }]\n",
    "    )\n",
    "    return response.message.content\n",
    "\n",
    "text_summaries = [get_text_summary(texts[i].text) \\\n",
    "                  for i in tqdm(range(len(texts)))]"
   ]
  },
  {
   "cell_type": "code",
   "execution_count": 30,
   "metadata": {},
   "outputs": [
    {
     "data": {
      "text/markdown": [
       "The text discusses recent advancements in recurrent neural network (RNN) architectures for sequence modeling and transduction tasks such as language translation and machine learning. While traditional RNNs are limited by sequential computation, which is inefficient for longer sequences or large datasets, new architectures have been developed to improve performance.\n",
       "\n",
       "One of these architectures is the Transformer model, proposed by Vaswani et al. (2017). Unlike RNNs, the Transformer uses self-attention instead of recurrence to process inputs and outputs in parallel. This allows for significantly more parallelization, enabling models to be trained on large datasets much faster than traditional RNN-based models.\n",
       "\n",
       "The Transformer architecture relies entirely on attention mechanisms to model global dependencies between input and output sequences. Self-attention is a key component that allows the model to weigh the importance of different positions within both the input and output sequences, enabling it to capture complex relationships between distant elements.\n",
       "\n",
       "The text also notes that this approach has several advantages over traditional RNN-based models, including reduced computational requirements, improved parallelization, and increased flexibility. While early implementations of the Transformer have struggled with training times and performance, researchers have made significant improvements in recent years, achieving state-of-the-art results on tasks such as language translation.\n",
       "\n",
       "Overall, the Transformer model represents a significant leap forward in sequence modeling and transduction tasks, offering promising new approaches to these challenges."
      ],
      "text/plain": [
       "<IPython.core.display.Markdown object>"
      ]
     },
     "metadata": {},
     "output_type": "display_data"
    }
   ],
   "source": [
    "display(Markdown(text_summaries[1]))"
   ]
  },
  {
   "cell_type": "code",
   "execution_count": 31,
   "metadata": {},
   "outputs": [
    {
     "name": "stderr",
     "output_type": "stream",
     "text": [
      "100%|██████████| 4/4 [00:25<00:00,  6.44s/it]\n"
     ]
    }
   ],
   "source": [
    "### Summarize tables\n",
    "\n",
    "def get_table_summary(table_html):\n",
    "\n",
    "    response = ollama.chat(\n",
    "        model = 'llama3.2:1b',\n",
    "        messages = [{\n",
    "            'role': 'user',\n",
    "            'content': f'Summarize this table: {table_html}'\n",
    "        }]\n",
    "    )\n",
    "    return response.message.content\n",
    "\n",
    "table_summaries = [get_table_summary(tables[i].metadata.text_as_html) \\\n",
    "                    for i in tqdm(range(len(tables)))]"
   ]
  },
  {
   "cell_type": "code",
   "execution_count": 32,
   "metadata": {},
   "outputs": [
    {
     "data": {
      "text/markdown": [
       "This table presents a comparison of various neural network models, specifically those related to machine translation and sequence-to-sequence tasks. Here's a summary of the key findings:\n",
       "\n",
       "- ByteNet: A model that achieves an BLEU score of 23.75, indicating good translations.\n",
       "- Deep-Att + PosUnk: Combines a pre-trained language model with a new attention mechanism, improving BLEU scores to around 39.2.\n",
       "- GNMT + RL (Generative Neural Machine Translation): Uses a GAN-based approach and achieves a score of 24.6, indicating strong translation capabilities.\n",
       "- ConvS28S (Convolutional Sequence-to-Sequence): Features a larger vocabulary size but worse BLEU scores compared to other models.\n",
       "- MoE (Multimodal Encoder): Combines a pre-trained language model with another model for better overall performance.\n",
       "- Deep-Att + PosUnk Ensemble: Further improves upon the original ensemble model by combining multiple attention mechanisms and achieving a score of 40.4.\n",
       "- GNMT + RL Ensemble: Incorporates additional training data to improve performance, resulting in a score of 26.3.\n",
       "- ConvS2S Ensemble (sequence-to-sequence with two convolutional layers): Has an impressive BLEU score of 26.36, indicating strong sequence-to-sequence capabilities.\n",
       "\n",
       "The table also lists training costs for each model, indicating that some models have more expensive setup but potentially better performance. Overall, the results suggest that a combination of pre-trained language models and attention mechanisms can lead to significant improvements in machine translation tasks, with ConvS28S and Deep-Att + PosUnk Ensemble standing out as particularly effective models."
      ],
      "text/plain": [
       "<IPython.core.display.Markdown object>"
      ]
     },
     "metadata": {},
     "output_type": "display_data"
    }
   ],
   "source": [
    "display(Markdown(table_summaries[1]))"
   ]
  },
  {
   "cell_type": "markdown",
   "metadata": {},
   "source": [
    "### Embed Summaries"
   ]
  },
  {
   "cell_type": "code",
   "execution_count": 33,
   "metadata": {},
   "outputs": [],
   "source": [
    "# %pip install einops"
   ]
  },
  {
   "cell_type": "markdown",
   "metadata": {},
   "source": [
    "write the functionality in and 'EmbedData'\n",
    "- Handle the loading of an embedding model.\n",
    "- Provide methods to batch-process the dataset for efficient embedding generation.\n",
    "- Store the generated embeddings for use in the retrieval system."
   ]
  },
  {
   "cell_type": "code",
   "execution_count": 34,
   "metadata": {},
   "outputs": [],
   "source": [
    "from llama_index.embeddings.huggingface import HuggingFaceEmbedding\n",
    "\n",
    "def batch_iterate(lst, batch_size):\n",
    "    for i in range(0 ,len(lst), batch_size):\n",
    "        yield lst[i:i+batch_size]\n",
    "\n",
    "\n",
    "class EmbedData:\n",
    "    \n",
    "    def __init__(self,\n",
    "                 embed_model_name=\"nomic-ai/nomic-embed-text-v1.5\",\n",
    "                 batch_size=32):\n",
    "        self.embed_model_name = embed_model_name\n",
    "        self.embed_model = self._load_embed_model()\n",
    "        self.batch_size = batch_size\n",
    "        self.embeddings = []\n",
    "\n",
    "    def _load_embed_model(self):\n",
    "        embed_model = HuggingFaceEmbedding(model_name=self.embed_model_name,\n",
    "                                           trust_remote_code=True,\n",
    "                                           cache_folder='./hf_cache')\n",
    "        return embed_model\n",
    "    \n",
    "    def generate_embedding(self, context):\n",
    "        return self.embed_model.get_text_embedding_batch(context)\n",
    "    \n",
    "    def embed(self, contexts):\n",
    "        self.contexts = contexts\n",
    "\n",
    "        for batch_context in tqdm(batch_iterate(contexts, self.batch_size),\n",
    "                                  total = len(contexts)//self.batch_size,\n",
    "                                  desc = \"Embedding data in batches\"):\n",
    "            batch_embeddings = self.generate_embedding(batch_context)\n",
    "\n",
    "            self.embeddings.extend(batch_embeddings)"
   ]
  },
  {
   "cell_type": "code",
   "execution_count": 35,
   "metadata": {},
   "outputs": [
    {
     "name": "stderr",
     "output_type": "stream",
     "text": [
      "/Users/rakeshk94/miniconda3/envs/torch/lib/python3.9/site-packages/huggingface_hub/file_download.py:795: FutureWarning: `resume_download` is deprecated and will be removed in version 1.0.0. Downloads always resume when possible. If you want to force a new download, use `force_download=True`.\n",
      "  warnings.warn(\n",
      "<All keys matched successfully>\n",
      "Embedding data in batches: 1it [00:02,  2.77s/it]\n"
     ]
    }
   ],
   "source": [
    "batch_size = 32\n",
    "\n",
    "embeddata= EmbedData(batch_size=batch_size)\n",
    "\n",
    "embeddata.embed(text_summaries + image_summaries + table_summaries)"
   ]
  },
  {
   "cell_type": "markdown",
   "metadata": {},
   "source": [
    "### Create a vector database and index"
   ]
  },
  {
   "cell_type": "code",
   "execution_count": 36,
   "metadata": {},
   "outputs": [],
   "source": [
    "from qdrant_client import models\n",
    "from qdrant_client import QdrantClient\n",
    "\n",
    "class QdrantVDB:\n",
    "    def __init__(self, collection_name, vector_dim=768, batch_size=512):\n",
    "        self.collection_name = collection_name\n",
    "        self.vector_dim = vector_dim\n",
    "        self.batch_size = batch_size\n",
    "\n",
    "    def define_client(self):\n",
    "        self.client = QdrantClient(url=\"http://localhost:6333\",\n",
    "                                   prefer_grpc=True)\n",
    "        \n",
    "    def create_collection(self):\n",
    "        \n",
    "        if not self.client.collection_exists(collection_name=self.collection_name):\n",
    "\n",
    "            self.client.create_collection(collection_name=self.collection_name,\n",
    "                                          \n",
    "                                          vectors_config=models.VectorParams(\n",
    "                                                              size=self.vector_dim,\n",
    "                                                              distance=models.Distance.DOT,\n",
    "                                                              on_disk=True),\n",
    "                                          \n",
    "                                          optimizers_config=models.OptimizersConfigDiff(\n",
    "                                                                            default_segment_number=5,\n",
    "                                                                            indexing_threshold=0)\n",
    "                                         )\n",
    "    def ingest_data(self, embeddata):\n",
    "    \n",
    "        for batch_context, batch_embeddings in tqdm(zip(batch_iterate(embeddata.contexts, self.batch_size), \n",
    "                                                        batch_iterate(embeddata.embeddings, self.batch_size)), \n",
    "                                                    total=len(embeddata.contexts)//self.batch_size, \n",
    "                                                    desc=\"Ingesting in batches\"):\n",
    "        \n",
    "            self.client.upload_collection(collection_name=self.collection_name,\n",
    "                                        vectors=batch_embeddings,\n",
    "                                        payload=[{\"context\": context} for context in batch_context])\n",
    "\n",
    "        self.client.update_collection(collection_name=self.collection_name,\n",
    "                                    optimizer_config=models.OptimizersConfigDiff(indexing_threshold=20000)\n",
    "                                    )"
   ]
  },
  {
   "cell_type": "code",
   "execution_count": 37,
   "metadata": {},
   "outputs": [
    {
     "name": "stderr",
     "output_type": "stream",
     "text": [
      "Ingesting in batches: 1it [00:00, 26.38it/s]\n"
     ]
    }
   ],
   "source": [
    "database = QdrantVDB(\"squad_collection\")\n",
    "database.define_client()\n",
    "database.create_collection()\n",
    "database.ingest_data(embeddata)"
   ]
  },
  {
   "cell_type": "markdown",
   "metadata": {},
   "source": [
    "## Define Retriever class"
   ]
  },
  {
   "cell_type": "code",
   "execution_count": 38,
   "metadata": {},
   "outputs": [],
   "source": [
    "## Completed Updating the data\n",
    "import time\n",
    "class Retriever:\n",
    "    def __init__(self, vector_db, embeddata):\n",
    "        self.vector_db = vector_db\n",
    "        self.embeddata = embeddata\n",
    "\n",
    "    def search(self, query, top_k=5):\n",
    "        query_embedding = self.embeddata.embed_model.get_query_embedding(query)\n",
    "\n",
    "        # Start the time\n",
    "        start_time = time.time()\n",
    "\n",
    "        # Search the query in the collection\n",
    "        result = self.vector_db.client.search(\n",
    "            collection_name=self.vector_db.collection_name,\n",
    "            query_vector = query_embedding,\n",
    "            search_params = models.SearchParams(\n",
    "                quantization=models.QuantizationSearchParams(\n",
    "                    ignore=True,\n",
    "                    rescore=True,\n",
    "                    oversampling=2.0,\n",
    "                )\n",
    "            ),\n",
    "            timeout=1000,\n",
    "        )\n",
    "        # End the timer\n",
    "        end_time = time.time()\n",
    "        elapsed_time = end_time - start_time\n",
    "\n",
    "        print(f\"Execution time fdor the search: {elapsed_time:.4f}  seconds\")\n",
    "\n",
    "        return result"
   ]
  },
  {
   "cell_type": "code",
   "execution_count": 39,
   "metadata": {},
   "outputs": [
    {
     "name": "stdout",
     "output_type": "stream",
     "text": [
      "Execution time fdor the search: 0.0900  seconds\n"
     ]
    },
    {
     "data": {
      "text/plain": [
       "ScoredPoint(id='1a737c02-d3a8-4df7-8228-b9f107555623', version=274, score=0.588471531867981, payload={'context': 'Static analysis techniques for software verification can be applied also in the scenario of query languages. In particular, the *Abstract interpretation framework has been extended to the field of query languages for relational databases as a way to support sound approximation techniques. The semantics of query languages can be tuned according to suitable abstractions of the concrete domain of data. The abstraction of relational database system has many interesting applications, in particular, for security purposes, such as fine grained access control, watermarking, etc.'}, vector=None, shard_key=None, order_value=None)"
      ]
     },
     "execution_count": 39,
     "metadata": {},
     "output_type": "execute_result"
    }
   ],
   "source": [
    "Retriever(database, embeddata).search(\"Sample Query\")[0]"
   ]
  },
  {
   "cell_type": "markdown",
   "metadata": {},
   "source": [
    "### Defining RAG Class"
   ]
  },
  {
   "cell_type": "code",
   "execution_count": 40,
   "metadata": {},
   "outputs": [],
   "source": [
    "from llama_index.llms.ollama import Ollama\n",
    "class RAG:\n",
    "    def __init__(self,\n",
    "                 retriever,\n",
    "                 llm_name=\"llama3.2:1b\"):\n",
    "        self.llm_name = llm_name\n",
    "        self.llm = self._setup_llm()\n",
    "        self.retriever = retriever\n",
    "        self.qa_prompt_tmpl_str = \"\"\"\n",
    "                            Context information is below.\n",
    "                            -------------------------------\n",
    "                            {context}\n",
    "                            -------------------------------\n",
    "                            Given the context information above I want you\n",
    "                            to think step-by-step to answer the query in a \n",
    "                            crisp manner. incase you don't know the answer\n",
    "                            say 'I don't know!'\n",
    "                            -------------------------------\n",
    "                            Query: {query}\n",
    "                            -------------------------------\n",
    "                            Answer:  \"\"\"\n",
    "    def _setup_llm(self):\n",
    "        return Ollama(model=self.llm_name)\n",
    "    # Get the context from payload\n",
    "    def generate_context(self, query):\n",
    "        result = self.retriever.search(query)\n",
    "        context = [dict(data) for data in result]\n",
    "        combined_prompt = []\n",
    "\n",
    "        for entry in context:\n",
    "            context = entry[\"payload\"][\"context\"]\n",
    "            combined_prompt.append(context)\n",
    "        return \"\\n\\n---\\n\\n\".join(combined_prompt)\n",
    "    def query(self, query):\n",
    "        context = self.generate_context(query=query)\n",
    "\n",
    "        prompt = self.qa_prompt_tmpl_str.format(context=context,\n",
    "                                                query=query)\n",
    "        response = self.llm.complete(prompt)\n",
    "\n",
    "        return dict(response)['text']"
   ]
  },
  {
   "cell_type": "code",
   "execution_count": 41,
   "metadata": {},
   "outputs": [],
   "source": [
    "retriever = Retriever(database, embeddata)\n",
    "\n",
    "rag = RAG(retriever)"
   ]
  },
  {
   "cell_type": "code",
   "execution_count": 42,
   "metadata": {},
   "outputs": [
    {
     "data": {
      "text/markdown": [
       "The text describes three common model architectures used in neural sequence transduction models:\n",
       "\n",
       "1. Encoder-Decoder architecture:\n",
       "   - The encoder maps input symbol representations to continuous output vectors.\n",
       "   - The decoder generates output symbols one element at a time, using the encoder's output as input.\n",
       "\n",
       "2. Transformer architecture:\n",
       "   - It uses stacked self-attention and point-wise, fully connected layers for both the encoder and decoder.\n",
       "   - Each layer consists of two sub-layers: multi-head self-attention and a position-wise fully connected feed-forward network.\n",
       "   - Residual connections are used to facilitate training, with output normalization applied to each sub-layer.\n",
       "\n",
       "3. Model Architecture:\n",
       "   - The model consists of an encoder-stack, where each stack has 6 identical layers (encoder and decoder).\n",
       "   - Encoder: Each layer has two sub-layers, a multi-head self-attention mechanism and a position-wise fully connected feed-forward network.\n",
       "   - Decoder: It also includes a third sub-layer for multi-head attention over the output of the encoder stack.\n",
       "   - Residual connections are used in both stacks, followed by layer normalization."
      ],
      "text/plain": [
       "<IPython.core.display.Markdown object>"
      ]
     },
     "metadata": {},
     "output_type": "display_data"
    }
   ],
   "source": [
    "display(Markdown(str(text_summaries[2])))"
   ]
  },
  {
   "cell_type": "code",
   "execution_count": 43,
   "metadata": {},
   "outputs": [
    {
     "name": "stdout",
     "output_type": "stream",
     "text": [
      "Execution time fdor the search: 0.0246  seconds\n"
     ]
    }
   ],
   "source": [
    "query = \"\"\"What are the types of model \n",
    "           architectures proposed in the paper?\"\"\"\n",
    "\n",
    "answer = rag.query(query)"
   ]
  },
  {
   "cell_type": "code",
   "execution_count": 44,
   "metadata": {},
   "outputs": [
    {
     "data": {
      "text/markdown": [
       "To answer your question, here is the step-by-step thought process:\n",
       "\n",
       "1. The text describes three common model architectures used in neural sequence transduction models:\n",
       "   - Encoder-Decoder architecture\n",
       "   - Transformer architecture\n",
       "   - Model Architecture\n",
       "\n",
       "2. It then specifically mentions the types of each model architecture as follows:\n",
       "   - Encoder-Decoder architecture: 1) encoder maps input symbol representations to continuous output vectors; 2) decoder generates output symbols one element at a time, using the encoder's output as input.\n",
       "   - Transformer architecture: 1) uses stacked self-attention and point-wise, fully connected layers for both the encoder and decoder. Each layer consists of two sub-layers: multi-head self-attention mechanism and a position-wise fully connected feed-forward network (FNN); 2) residual connections are used to facilitate training.\n",
       "   - Model Architecture: \n",
       "     - Composed of an encoder-stack, where each stack has 6 identical layers (encoder and decoder).\n",
       "     - Encoder:\n",
       "       * Each layer has two sub-layers: multi-head self-attention mechanism and a position-wise fully connected feed-forward network (FNN);\n",
       "       * Output layer produces vectors of dimension 512.\n",
       "     - Decoder:\n",
       "       * Also composed of 6 identical layers, including three additional sub-layers:\n",
       "         + Multi-head attention over the encoder's output\n",
       "         + Modifying self-attention sub-layer to prevent position-to-position attention\n",
       "         + Residual connection and layer normalization.\n",
       "\n",
       "3. Based on this information, I can answer your question as follows:\n",
       "\n",
       "   - The Transformer architecture is a type of neural sequence transduction model.\n",
       "   - It has an encoder-decoder structure with a stack of 6 identical layers (encoder and decoder).\n",
       "   - Each layer in the encoder and decoder consists of two sub-layers: \n",
       "     * multi-head self-attention mechanism;\n",
       "     * position-wise fully connected feed-forward network (FNN);\n",
       "     * Residual connection to facilitate training, followed by layer normalization.\n",
       "\n",
       "4. Therefore, the types of model architectures proposed in the paper are:\n",
       "   - Encoder-Decoder architecture\n",
       "   - Transformer architecture"
      ],
      "text/plain": [
       "<IPython.core.display.Markdown object>"
      ]
     },
     "metadata": {},
     "output_type": "display_data"
    }
   ],
   "source": [
    "display(Markdown(str(answer)))"
   ]
  },
  {
   "cell_type": "code",
   "execution_count": 45,
   "metadata": {},
   "outputs": [
    {
     "data": {
      "text/markdown": [
       "**Overview of the Image**\n",
       "\n",
       "The image presents a detailed illustration of two types of attention mechanisms: **Scaled Dot-Product Attention** and **Multi-Head Attention**. These concepts are central to various applications in machine learning, particularly in transformer models.\n",
       "\n",
       "**Scaled Dot-Product Attention**\n",
       "\n",
       "This section illustrates the scaled dot-product attention mechanism. It consists of three primary components:\n",
       "\n",
       "*   **Query (Q)**: The input vector that represents the information being queried.\n",
       "*   **Key (K)**: The input vector that represents the information relevant to the query.\n",
       "*   **Value (V)**: The input vector that provides additional context or relevance.\n",
       "\n",
       "The scaled dot-product attention mechanism calculates the similarity between the query and key vectors, then scales this similarity by a factor of 1/sqrt(d), where d is the dimensionality of the vectors. This scaling helps prevent the dot product from growing too large as the sequence length increases. The final output is obtained by taking the weighted sum of the value vectors based on their attention scores.\n",
       "\n",
       "**Multi-Head Attention**\n",
       "\n",
       "This section demonstrates the multi-head attention mechanism, which is a key component of transformer models. It involves applying multiple instances of scaled dot-product attention in parallel to different subsets of the input sequence. Each head attends to different aspects of the input and combines these attentions through concatenation or averaging.\n",
       "\n",
       "The benefits of multi-head attention include:\n",
       "\n",
       "*   **Improved Representation Learning**: By attending to different aspects of the input, each head can capture distinct information, leading to more comprehensive representations.\n",
       "*   **Robustness and Generalization**: The combination of multiple heads enhances model robustness against various tasks and improves generalizability.\n",
       "\n",
       "**Key Takeaways**\n",
       "\n",
       "The image effectively illustrates the inner workings of two critical attention mechanisms in deep learning. Understanding these concepts is essential for developing effective transformer models that can handle complex natural language processing tasks with high accuracy and efficiency."
      ],
      "text/plain": [
       "<IPython.core.display.Markdown object>"
      ]
     },
     "metadata": {},
     "output_type": "display_data"
    }
   ],
   "source": [
    "display(Markdown(str(image_summaries[1])))"
   ]
  },
  {
   "cell_type": "code",
   "execution_count": 46,
   "metadata": {},
   "outputs": [
    {
     "name": "stdout",
     "output_type": "stream",
     "text": [
      "Execution time fdor the search: 0.1216  seconds\n"
     ]
    },
    {
     "data": {
      "text/markdown": [
       "The similarity in attention mechanisms (Scaled Dot-Product Attention and Multi-Head Attention) is scaled by a factor of 1/sqrt(d), where d is the dimensionality of the vectors."
      ],
      "text/plain": [
       "<IPython.core.display.Markdown object>"
      ]
     },
     "metadata": {},
     "output_type": "display_data"
    }
   ],
   "source": [
    "query = \"\"\"The similarity in attention mechanism\n",
    "              is scaled by what factor?\"\"\"\n",
    "answer = rag.query(query)\n",
    "\n",
    "display(Markdown(str(answer)))"
   ]
  },
  {
   "cell_type": "code",
   "execution_count": 47,
   "metadata": {},
   "outputs": [
    {
     "data": {
      "text/markdown": [
       "The table provides information on the complexities of different neural network layers in a deep learning model. Here's a summary:\n",
       "\n",
       "* **Self-Attention**: This layer can handle any sequence length (n) and has sequential operations that are always O(1), meaning it performs the same operation for each element in the sequence.\n",
       "* **Recurrent Layers**:\n",
       "\t+ These layers have sequential operations that depend on the previous state of the layer, which is typically determined by a recurrence relation. They have maximum path lengths that depend on both the input length (n) and the number of neurons/demembers (d).\n",
       "* **Convolutional Layers**: These layers can be any size (k-n-d?) but always have sequential operations that are O(1). The maximum path length depends on the log of the input size (logy(n)).\n",
       "\n",
       "The self-attention layer has a complexity of O(r-n-d), where r is the number of attention heads, n is the sequence length, and d is the dimensionality of the feature vectors."
      ],
      "text/plain": [
       "<IPython.core.display.Markdown object>"
      ]
     },
     "metadata": {},
     "output_type": "display_data"
    }
   ],
   "source": [
    "display(Markdown(str(table_summaries[0])))"
   ]
  },
  {
   "cell_type": "code",
   "execution_count": 48,
   "metadata": {},
   "outputs": [
    {
     "name": "stdout",
     "output_type": "stream",
     "text": [
      "Execution time fdor the search: 0.0654  seconds\n"
     ]
    },
    {
     "data": {
      "text/markdown": [
       "To find the Blue (BLUE) score for MoE (Multi-Objective Expert), I will search through the provided context information.\n",
       "\n",
       "After analyzing the context, it seems that the BLUE scores mentioned are related to different activities or tasks and have specific values associated with them. \n",
       "\n",
       "However, there is no direct mention of a \"BLUE\" task or activity in the provided text. Therefore, based on my understanding of the context, I can conclude:\n",
       "\n",
       "I don't know!"
      ],
      "text/plain": [
       "<IPython.core.display.Markdown object>"
      ]
     },
     "metadata": {},
     "output_type": "display_data"
    }
   ],
   "source": [
    "query = \"\"\"What is the BLUE score for MoE model?\"\"\"\n",
    "\n",
    "answer = rag.query(query)\n",
    "\n",
    "display(Markdown(str(answer)))"
   ]
  },
  {
   "cell_type": "markdown",
   "metadata": {},
   "source": [
    "## Evaluating the RAG"
   ]
  },
  {
   "cell_type": "code",
   "execution_count": 59,
   "metadata": {},
   "outputs": [],
   "source": [
    "from langchain_community.llms import Ollama\n",
    "from langchain_community.embeddings import OllamaEmbeddings\n",
    "\n",
    "generator_llm = Ollama(model=\"phi3:3.8b\")\n",
    "critic_llm = Ollama(model=\"llama3.2:1b\")\n",
    "\n",
    "ollama_emb = OllamaEmbeddings(\n",
    "    model =\"nomic-embed-text\",\n",
    ")"
   ]
  },
  {
   "cell_type": "code",
   "execution_count": 60,
   "metadata": {},
   "outputs": [],
   "source": [
    "# %pip uninstall ragas --y\n",
    "# %pip install ragas==0.1.7"
   ]
  },
  {
   "cell_type": "code",
   "execution_count": 61,
   "metadata": {},
   "outputs": [
    {
     "name": "stdout",
     "output_type": "stream",
     "text": [
      "['/Volumes/Extreme SSD/practice/deep_dives/rag-project', '/Users/rakeshk94/miniconda3/envs/torch/lib/python39.zip', '/Users/rakeshk94/miniconda3/envs/torch/lib/python3.9', '/Users/rakeshk94/miniconda3/envs/torch/lib/python3.9/lib-dynload', '', '/Users/rakeshk94/miniconda3/envs/torch/lib/python3.9/site-packages', '/Users/rakeshk94/.cache/huggingface/modules']\n"
     ]
    }
   ],
   "source": [
    "import sys\n",
    "print(sys.path)"
   ]
  },
  {
   "cell_type": "code",
   "execution_count": 62,
   "metadata": {},
   "outputs": [
    {
     "name": "stderr",
     "output_type": "stream",
     "text": [
      "huggingface/tokenizers: The current process just got forked, after parallelism has already been used. Disabling parallelism to avoid deadlocks...\n",
      "To disable this warning, you can either:\n",
      "\t- Avoid using `tokenizers` before the fork if possible\n",
      "\t- Explicitly set the environment variable TOKENIZERS_PARALLELISM=(true | false)\n"
     ]
    },
    {
     "name": "stdout",
     "output_type": "stream",
     "text": [
      "Requirement already satisfied: ragas==0.1.7 in /Users/rakeshk94/miniconda3/envs/torch/lib/python3.9/site-packages (0.1.7)\n",
      "Requirement already satisfied: numpy in /Users/rakeshk94/miniconda3/envs/torch/lib/python3.9/site-packages (from ragas==0.1.7) (1.26.4)\n",
      "Requirement already satisfied: datasets in /Users/rakeshk94/miniconda3/envs/torch/lib/python3.9/site-packages (from ragas==0.1.7) (2.15.0)\n",
      "Requirement already satisfied: tiktoken in /Users/rakeshk94/miniconda3/envs/torch/lib/python3.9/site-packages (from ragas==0.1.7) (0.8.0)\n",
      "Requirement already satisfied: langchain in /Users/rakeshk94/miniconda3/envs/torch/lib/python3.9/site-packages (from ragas==0.1.7) (0.1.16)\n",
      "Requirement already satisfied: langchain-core in /Users/rakeshk94/miniconda3/envs/torch/lib/python3.9/site-packages (from ragas==0.1.7) (0.1.53)\n",
      "Requirement already satisfied: langchain-community in /Users/rakeshk94/miniconda3/envs/torch/lib/python3.9/site-packages (from ragas==0.1.7) (0.0.38)\n",
      "Requirement already satisfied: langchain-openai in /Users/rakeshk94/miniconda3/envs/torch/lib/python3.9/site-packages (from ragas==0.1.7) (0.1.7)\n",
      "Requirement already satisfied: openai>1 in /Users/rakeshk94/miniconda3/envs/torch/lib/python3.9/site-packages (from ragas==0.1.7) (1.58.1)\n",
      "Requirement already satisfied: pysbd>=0.3.4 in /Users/rakeshk94/miniconda3/envs/torch/lib/python3.9/site-packages (from ragas==0.1.7) (0.3.4)\n",
      "Requirement already satisfied: nest-asyncio in /Users/rakeshk94/miniconda3/envs/torch/lib/python3.9/site-packages (from ragas==0.1.7) (1.6.0)\n",
      "Requirement already satisfied: appdirs in /Users/rakeshk94/miniconda3/envs/torch/lib/python3.9/site-packages (from ragas==0.1.7) (1.4.4)\n",
      "Requirement already satisfied: anyio<5,>=3.5.0 in /Users/rakeshk94/miniconda3/envs/torch/lib/python3.9/site-packages (from openai>1->ragas==0.1.7) (4.0.0)\n",
      "Requirement already satisfied: distro<2,>=1.7.0 in /Users/rakeshk94/miniconda3/envs/torch/lib/python3.9/site-packages (from openai>1->ragas==0.1.7) (1.9.0)\n",
      "Requirement already satisfied: httpx<1,>=0.23.0 in /Users/rakeshk94/miniconda3/envs/torch/lib/python3.9/site-packages (from openai>1->ragas==0.1.7) (0.27.0)\n",
      "Requirement already satisfied: jiter<1,>=0.4.0 in /Users/rakeshk94/miniconda3/envs/torch/lib/python3.9/site-packages (from openai>1->ragas==0.1.7) (0.8.2)\n",
      "Requirement already satisfied: pydantic<3,>=1.9.0 in /Users/rakeshk94/miniconda3/envs/torch/lib/python3.9/site-packages (from openai>1->ragas==0.1.7) (2.9.2)\n",
      "Requirement already satisfied: sniffio in /Users/rakeshk94/miniconda3/envs/torch/lib/python3.9/site-packages (from openai>1->ragas==0.1.7) (1.3.0)\n",
      "Requirement already satisfied: tqdm>4 in /Users/rakeshk94/miniconda3/envs/torch/lib/python3.9/site-packages (from openai>1->ragas==0.1.7) (4.66.1)\n",
      "Requirement already satisfied: typing-extensions<5,>=4.11 in /Users/rakeshk94/miniconda3/envs/torch/lib/python3.9/site-packages (from openai>1->ragas==0.1.7) (4.12.2)\n",
      "Requirement already satisfied: pyarrow>=8.0.0 in /Users/rakeshk94/miniconda3/envs/torch/lib/python3.9/site-packages (from datasets->ragas==0.1.7) (14.0.1)\n",
      "Requirement already satisfied: pyarrow-hotfix in /Users/rakeshk94/miniconda3/envs/torch/lib/python3.9/site-packages (from datasets->ragas==0.1.7) (0.6)\n",
      "Requirement already satisfied: dill<0.3.8,>=0.3.0 in /Users/rakeshk94/miniconda3/envs/torch/lib/python3.9/site-packages (from datasets->ragas==0.1.7) (0.3.7)\n",
      "Requirement already satisfied: pandas in /Users/rakeshk94/miniconda3/envs/torch/lib/python3.9/site-packages (from datasets->ragas==0.1.7) (2.1.1)\n",
      "Requirement already satisfied: requests>=2.19.0 in /Users/rakeshk94/miniconda3/envs/torch/lib/python3.9/site-packages (from datasets->ragas==0.1.7) (2.31.0)\n",
      "Requirement already satisfied: xxhash in /Users/rakeshk94/miniconda3/envs/torch/lib/python3.9/site-packages (from datasets->ragas==0.1.7) (3.4.1)\n",
      "Requirement already satisfied: multiprocess in /Users/rakeshk94/miniconda3/envs/torch/lib/python3.9/site-packages (from datasets->ragas==0.1.7) (0.70.15)\n",
      "Requirement already satisfied: fsspec<=2023.10.0,>=2023.1.0 in /Users/rakeshk94/miniconda3/envs/torch/lib/python3.9/site-packages (from fsspec[http]<=2023.10.0,>=2023.1.0->datasets->ragas==0.1.7) (2023.10.0)\n",
      "Requirement already satisfied: aiohttp in /Users/rakeshk94/miniconda3/envs/torch/lib/python3.9/site-packages (from datasets->ragas==0.1.7) (3.9.0)\n",
      "Requirement already satisfied: huggingface-hub>=0.18.0 in /Users/rakeshk94/miniconda3/envs/torch/lib/python3.9/site-packages (from datasets->ragas==0.1.7) (0.27.0)\n",
      "Requirement already satisfied: packaging in /Users/rakeshk94/miniconda3/envs/torch/lib/python3.9/site-packages (from datasets->ragas==0.1.7) (23.2)\n",
      "Requirement already satisfied: pyyaml>=5.1 in /Users/rakeshk94/miniconda3/envs/torch/lib/python3.9/site-packages (from datasets->ragas==0.1.7) (6.0.1)\n",
      "Requirement already satisfied: SQLAlchemy<3,>=1.4 in /Users/rakeshk94/miniconda3/envs/torch/lib/python3.9/site-packages (from langchain->ragas==0.1.7) (2.0.27)\n",
      "Requirement already satisfied: async-timeout<5.0.0,>=4.0.0 in /Users/rakeshk94/miniconda3/envs/torch/lib/python3.9/site-packages (from langchain->ragas==0.1.7) (4.0.3)\n",
      "Requirement already satisfied: dataclasses-json<0.7,>=0.5.7 in /Users/rakeshk94/miniconda3/envs/torch/lib/python3.9/site-packages (from langchain->ragas==0.1.7) (0.6.4)\n",
      "Requirement already satisfied: jsonpatch<2.0,>=1.33 in /Users/rakeshk94/miniconda3/envs/torch/lib/python3.9/site-packages (from langchain->ragas==0.1.7) (1.33)\n",
      "Requirement already satisfied: langchain-text-splitters<0.1,>=0.0.1 in /Users/rakeshk94/miniconda3/envs/torch/lib/python3.9/site-packages (from langchain->ragas==0.1.7) (0.0.2)\n",
      "Requirement already satisfied: langsmith<0.2.0,>=0.1.17 in /Users/rakeshk94/miniconda3/envs/torch/lib/python3.9/site-packages (from langchain->ragas==0.1.7) (0.1.147)\n",
      "Requirement already satisfied: tenacity<9.0.0,>=8.1.0 in /Users/rakeshk94/miniconda3/envs/torch/lib/python3.9/site-packages (from langchain->ragas==0.1.7) (8.2.3)\n",
      "Requirement already satisfied: regex>=2022.1.18 in /Users/rakeshk94/miniconda3/envs/torch/lib/python3.9/site-packages (from tiktoken->ragas==0.1.7) (2023.10.3)\n",
      "Requirement already satisfied: attrs>=17.3.0 in /Users/rakeshk94/miniconda3/envs/torch/lib/python3.9/site-packages (from aiohttp->datasets->ragas==0.1.7) (23.1.0)\n",
      "Requirement already satisfied: multidict<7.0,>=4.5 in /Users/rakeshk94/miniconda3/envs/torch/lib/python3.9/site-packages (from aiohttp->datasets->ragas==0.1.7) (6.0.4)\n",
      "Requirement already satisfied: yarl<2.0,>=1.0 in /Users/rakeshk94/miniconda3/envs/torch/lib/python3.9/site-packages (from aiohttp->datasets->ragas==0.1.7) (1.9.3)\n",
      "Requirement already satisfied: frozenlist>=1.1.1 in /Users/rakeshk94/miniconda3/envs/torch/lib/python3.9/site-packages (from aiohttp->datasets->ragas==0.1.7) (1.4.0)\n",
      "Requirement already satisfied: aiosignal>=1.1.2 in /Users/rakeshk94/miniconda3/envs/torch/lib/python3.9/site-packages (from aiohttp->datasets->ragas==0.1.7) (1.3.1)\n",
      "Requirement already satisfied: idna>=2.8 in /Users/rakeshk94/miniconda3/envs/torch/lib/python3.9/site-packages (from anyio<5,>=3.5.0->openai>1->ragas==0.1.7) (3.4)\n",
      "Requirement already satisfied: exceptiongroup>=1.0.2 in /Users/rakeshk94/miniconda3/envs/torch/lib/python3.9/site-packages (from anyio<5,>=3.5.0->openai>1->ragas==0.1.7) (1.1.3)\n",
      "Requirement already satisfied: marshmallow<4.0.0,>=3.18.0 in /Users/rakeshk94/miniconda3/envs/torch/lib/python3.9/site-packages (from dataclasses-json<0.7,>=0.5.7->langchain->ragas==0.1.7) (3.21.0)\n",
      "Requirement already satisfied: typing-inspect<1,>=0.4.0 in /Users/rakeshk94/miniconda3/envs/torch/lib/python3.9/site-packages (from dataclasses-json<0.7,>=0.5.7->langchain->ragas==0.1.7) (0.9.0)\n",
      "Requirement already satisfied: certifi in /Users/rakeshk94/miniconda3/envs/torch/lib/python3.9/site-packages (from httpx<1,>=0.23.0->openai>1->ragas==0.1.7) (2024.12.14)\n",
      "Requirement already satisfied: httpcore==1.* in /Users/rakeshk94/miniconda3/envs/torch/lib/python3.9/site-packages (from httpx<1,>=0.23.0->openai>1->ragas==0.1.7) (1.0.4)\n",
      "Requirement already satisfied: h11<0.15,>=0.13 in /Users/rakeshk94/miniconda3/envs/torch/lib/python3.9/site-packages (from httpcore==1.*->httpx<1,>=0.23.0->openai>1->ragas==0.1.7) (0.14.0)\n",
      "Requirement already satisfied: filelock in /Users/rakeshk94/miniconda3/envs/torch/lib/python3.9/site-packages (from huggingface-hub>=0.18.0->datasets->ragas==0.1.7) (3.12.4)\n",
      "Requirement already satisfied: jsonpointer>=1.9 in /Users/rakeshk94/miniconda3/envs/torch/lib/python3.9/site-packages (from jsonpatch<2.0,>=1.33->langchain->ragas==0.1.7) (2.4)\n",
      "Requirement already satisfied: orjson<4.0.0,>=3.9.14 in /Users/rakeshk94/miniconda3/envs/torch/lib/python3.9/site-packages (from langsmith<0.2.0,>=0.1.17->langchain->ragas==0.1.7) (3.9.15)\n",
      "Requirement already satisfied: requests-toolbelt<2.0.0,>=1.0.0 in /Users/rakeshk94/miniconda3/envs/torch/lib/python3.9/site-packages (from langsmith<0.2.0,>=0.1.17->langchain->ragas==0.1.7) (1.0.0)\n",
      "Requirement already satisfied: annotated-types>=0.6.0 in /Users/rakeshk94/miniconda3/envs/torch/lib/python3.9/site-packages (from pydantic<3,>=1.9.0->openai>1->ragas==0.1.7) (0.6.0)\n",
      "Requirement already satisfied: pydantic-core==2.23.4 in /Users/rakeshk94/miniconda3/envs/torch/lib/python3.9/site-packages (from pydantic<3,>=1.9.0->openai>1->ragas==0.1.7) (2.23.4)\n",
      "Requirement already satisfied: charset-normalizer<4,>=2 in /Users/rakeshk94/miniconda3/envs/torch/lib/python3.9/site-packages (from requests>=2.19.0->datasets->ragas==0.1.7) (3.3.1)\n",
      "Requirement already satisfied: urllib3<3,>=1.21.1 in /Users/rakeshk94/miniconda3/envs/torch/lib/python3.9/site-packages (from requests>=2.19.0->datasets->ragas==0.1.7) (1.26.18)\n",
      "Requirement already satisfied: python-dateutil>=2.8.2 in /Users/rakeshk94/miniconda3/envs/torch/lib/python3.9/site-packages (from pandas->datasets->ragas==0.1.7) (2.8.2)\n",
      "Requirement already satisfied: pytz>=2020.1 in /Users/rakeshk94/miniconda3/envs/torch/lib/python3.9/site-packages (from pandas->datasets->ragas==0.1.7) (2023.3.post1)\n",
      "Requirement already satisfied: tzdata>=2022.1 in /Users/rakeshk94/miniconda3/envs/torch/lib/python3.9/site-packages (from pandas->datasets->ragas==0.1.7) (2023.3)\n",
      "Requirement already satisfied: six>=1.5 in /Users/rakeshk94/miniconda3/envs/torch/lib/python3.9/site-packages (from python-dateutil>=2.8.2->pandas->datasets->ragas==0.1.7) (1.16.0)\n",
      "Requirement already satisfied: mypy-extensions>=0.3.0 in /Users/rakeshk94/miniconda3/envs/torch/lib/python3.9/site-packages (from typing-inspect<1,>=0.4.0->dataclasses-json<0.7,>=0.5.7->langchain->ragas==0.1.7) (1.0.0)\n",
      "Note: you may need to restart the kernel to use updated packages.\n"
     ]
    },
    {
     "name": "stderr",
     "output_type": "stream",
     "text": [
      "huggingface/tokenizers: The current process just got forked, after parallelism has already been used. Disabling parallelism to avoid deadlocks...\n",
      "To disable this warning, you can either:\n",
      "\t- Avoid using `tokenizers` before the fork if possible\n",
      "\t- Explicitly set the environment variable TOKENIZERS_PARALLELISM=(true | false)\n"
     ]
    },
    {
     "name": "stdout",
     "output_type": "stream",
     "text": [
      "Requirement already satisfied: langchain==0.1.16 in /Users/rakeshk94/miniconda3/envs/torch/lib/python3.9/site-packages (0.1.16)\n",
      "Requirement already satisfied: PyYAML>=5.3 in /Users/rakeshk94/miniconda3/envs/torch/lib/python3.9/site-packages (from langchain==0.1.16) (6.0.1)\n",
      "Requirement already satisfied: SQLAlchemy<3,>=1.4 in /Users/rakeshk94/miniconda3/envs/torch/lib/python3.9/site-packages (from langchain==0.1.16) (2.0.27)\n",
      "Requirement already satisfied: aiohttp<4.0.0,>=3.8.3 in /Users/rakeshk94/miniconda3/envs/torch/lib/python3.9/site-packages (from langchain==0.1.16) (3.9.0)\n",
      "Requirement already satisfied: async-timeout<5.0.0,>=4.0.0 in /Users/rakeshk94/miniconda3/envs/torch/lib/python3.9/site-packages (from langchain==0.1.16) (4.0.3)\n",
      "Requirement already satisfied: dataclasses-json<0.7,>=0.5.7 in /Users/rakeshk94/miniconda3/envs/torch/lib/python3.9/site-packages (from langchain==0.1.16) (0.6.4)\n",
      "Requirement already satisfied: jsonpatch<2.0,>=1.33 in /Users/rakeshk94/miniconda3/envs/torch/lib/python3.9/site-packages (from langchain==0.1.16) (1.33)\n",
      "Requirement already satisfied: langchain-community<0.1,>=0.0.32 in /Users/rakeshk94/miniconda3/envs/torch/lib/python3.9/site-packages (from langchain==0.1.16) (0.0.38)\n",
      "Requirement already satisfied: langchain-core<0.2.0,>=0.1.42 in /Users/rakeshk94/miniconda3/envs/torch/lib/python3.9/site-packages (from langchain==0.1.16) (0.1.53)\n",
      "Requirement already satisfied: langchain-text-splitters<0.1,>=0.0.1 in /Users/rakeshk94/miniconda3/envs/torch/lib/python3.9/site-packages (from langchain==0.1.16) (0.0.2)\n",
      "Requirement already satisfied: langsmith<0.2.0,>=0.1.17 in /Users/rakeshk94/miniconda3/envs/torch/lib/python3.9/site-packages (from langchain==0.1.16) (0.1.147)\n",
      "Requirement already satisfied: numpy<2,>=1 in /Users/rakeshk94/miniconda3/envs/torch/lib/python3.9/site-packages (from langchain==0.1.16) (1.26.4)\n",
      "Requirement already satisfied: pydantic<3,>=1 in /Users/rakeshk94/miniconda3/envs/torch/lib/python3.9/site-packages (from langchain==0.1.16) (2.9.2)\n",
      "Requirement already satisfied: requests<3,>=2 in /Users/rakeshk94/miniconda3/envs/torch/lib/python3.9/site-packages (from langchain==0.1.16) (2.31.0)\n",
      "Requirement already satisfied: tenacity<9.0.0,>=8.1.0 in /Users/rakeshk94/miniconda3/envs/torch/lib/python3.9/site-packages (from langchain==0.1.16) (8.2.3)\n",
      "Requirement already satisfied: attrs>=17.3.0 in /Users/rakeshk94/miniconda3/envs/torch/lib/python3.9/site-packages (from aiohttp<4.0.0,>=3.8.3->langchain==0.1.16) (23.1.0)\n",
      "Requirement already satisfied: multidict<7.0,>=4.5 in /Users/rakeshk94/miniconda3/envs/torch/lib/python3.9/site-packages (from aiohttp<4.0.0,>=3.8.3->langchain==0.1.16) (6.0.4)\n",
      "Requirement already satisfied: yarl<2.0,>=1.0 in /Users/rakeshk94/miniconda3/envs/torch/lib/python3.9/site-packages (from aiohttp<4.0.0,>=3.8.3->langchain==0.1.16) (1.9.3)\n",
      "Requirement already satisfied: frozenlist>=1.1.1 in /Users/rakeshk94/miniconda3/envs/torch/lib/python3.9/site-packages (from aiohttp<4.0.0,>=3.8.3->langchain==0.1.16) (1.4.0)\n",
      "Requirement already satisfied: aiosignal>=1.1.2 in /Users/rakeshk94/miniconda3/envs/torch/lib/python3.9/site-packages (from aiohttp<4.0.0,>=3.8.3->langchain==0.1.16) (1.3.1)\n",
      "Requirement already satisfied: marshmallow<4.0.0,>=3.18.0 in /Users/rakeshk94/miniconda3/envs/torch/lib/python3.9/site-packages (from dataclasses-json<0.7,>=0.5.7->langchain==0.1.16) (3.21.0)\n",
      "Requirement already satisfied: typing-inspect<1,>=0.4.0 in /Users/rakeshk94/miniconda3/envs/torch/lib/python3.9/site-packages (from dataclasses-json<0.7,>=0.5.7->langchain==0.1.16) (0.9.0)\n",
      "Requirement already satisfied: jsonpointer>=1.9 in /Users/rakeshk94/miniconda3/envs/torch/lib/python3.9/site-packages (from jsonpatch<2.0,>=1.33->langchain==0.1.16) (2.4)\n",
      "Requirement already satisfied: packaging<24.0,>=23.2 in /Users/rakeshk94/miniconda3/envs/torch/lib/python3.9/site-packages (from langchain-core<0.2.0,>=0.1.42->langchain==0.1.16) (23.2)\n",
      "Requirement already satisfied: httpx<1,>=0.23.0 in /Users/rakeshk94/miniconda3/envs/torch/lib/python3.9/site-packages (from langsmith<0.2.0,>=0.1.17->langchain==0.1.16) (0.27.0)\n",
      "Requirement already satisfied: orjson<4.0.0,>=3.9.14 in /Users/rakeshk94/miniconda3/envs/torch/lib/python3.9/site-packages (from langsmith<0.2.0,>=0.1.17->langchain==0.1.16) (3.9.15)\n",
      "Requirement already satisfied: requests-toolbelt<2.0.0,>=1.0.0 in /Users/rakeshk94/miniconda3/envs/torch/lib/python3.9/site-packages (from langsmith<0.2.0,>=0.1.17->langchain==0.1.16) (1.0.0)\n",
      "Requirement already satisfied: annotated-types>=0.6.0 in /Users/rakeshk94/miniconda3/envs/torch/lib/python3.9/site-packages (from pydantic<3,>=1->langchain==0.1.16) (0.6.0)\n",
      "Requirement already satisfied: pydantic-core==2.23.4 in /Users/rakeshk94/miniconda3/envs/torch/lib/python3.9/site-packages (from pydantic<3,>=1->langchain==0.1.16) (2.23.4)\n",
      "Requirement already satisfied: typing-extensions>=4.6.1 in /Users/rakeshk94/miniconda3/envs/torch/lib/python3.9/site-packages (from pydantic<3,>=1->langchain==0.1.16) (4.12.2)\n",
      "Requirement already satisfied: charset-normalizer<4,>=2 in /Users/rakeshk94/miniconda3/envs/torch/lib/python3.9/site-packages (from requests<3,>=2->langchain==0.1.16) (3.3.1)\n",
      "Requirement already satisfied: idna<4,>=2.5 in /Users/rakeshk94/miniconda3/envs/torch/lib/python3.9/site-packages (from requests<3,>=2->langchain==0.1.16) (3.4)\n",
      "Requirement already satisfied: urllib3<3,>=1.21.1 in /Users/rakeshk94/miniconda3/envs/torch/lib/python3.9/site-packages (from requests<3,>=2->langchain==0.1.16) (1.26.18)\n",
      "Requirement already satisfied: certifi>=2017.4.17 in /Users/rakeshk94/miniconda3/envs/torch/lib/python3.9/site-packages (from requests<3,>=2->langchain==0.1.16) (2024.12.14)\n",
      "Requirement already satisfied: anyio in /Users/rakeshk94/miniconda3/envs/torch/lib/python3.9/site-packages (from httpx<1,>=0.23.0->langsmith<0.2.0,>=0.1.17->langchain==0.1.16) (4.0.0)\n",
      "Requirement already satisfied: httpcore==1.* in /Users/rakeshk94/miniconda3/envs/torch/lib/python3.9/site-packages (from httpx<1,>=0.23.0->langsmith<0.2.0,>=0.1.17->langchain==0.1.16) (1.0.4)\n",
      "Requirement already satisfied: sniffio in /Users/rakeshk94/miniconda3/envs/torch/lib/python3.9/site-packages (from httpx<1,>=0.23.0->langsmith<0.2.0,>=0.1.17->langchain==0.1.16) (1.3.0)\n",
      "Requirement already satisfied: h11<0.15,>=0.13 in /Users/rakeshk94/miniconda3/envs/torch/lib/python3.9/site-packages (from httpcore==1.*->httpx<1,>=0.23.0->langsmith<0.2.0,>=0.1.17->langchain==0.1.16) (0.14.0)\n",
      "Requirement already satisfied: mypy-extensions>=0.3.0 in /Users/rakeshk94/miniconda3/envs/torch/lib/python3.9/site-packages (from typing-inspect<1,>=0.4.0->dataclasses-json<0.7,>=0.5.7->langchain==0.1.16) (1.0.0)\n",
      "Requirement already satisfied: exceptiongroup>=1.0.2 in /Users/rakeshk94/miniconda3/envs/torch/lib/python3.9/site-packages (from anyio->httpx<1,>=0.23.0->langsmith<0.2.0,>=0.1.17->langchain==0.1.16) (1.1.3)\n",
      "Note: you may need to restart the kernel to use updated packages.\n"
     ]
    },
    {
     "name": "stderr",
     "output_type": "stream",
     "text": [
      "huggingface/tokenizers: The current process just got forked, after parallelism has already been used. Disabling parallelism to avoid deadlocks...\n",
      "To disable this warning, you can either:\n",
      "\t- Avoid using `tokenizers` before the fork if possible\n",
      "\t- Explicitly set the environment variable TOKENIZERS_PARALLELISM=(true | false)\n"
     ]
    },
    {
     "name": "stdout",
     "output_type": "stream",
     "text": [
      "Requirement already satisfied: unstructured in /Users/rakeshk94/miniconda3/envs/torch/lib/python3.9/site-packages (0.16.6)\n",
      "Requirement already satisfied: chardet in /Users/rakeshk94/miniconda3/envs/torch/lib/python3.9/site-packages (from unstructured) (5.2.0)\n",
      "Requirement already satisfied: filetype in /Users/rakeshk94/miniconda3/envs/torch/lib/python3.9/site-packages (from unstructured) (1.2.0)\n",
      "Requirement already satisfied: python-magic in /Users/rakeshk94/miniconda3/envs/torch/lib/python3.9/site-packages (from unstructured) (0.4.27)\n",
      "Requirement already satisfied: lxml in /Users/rakeshk94/miniconda3/envs/torch/lib/python3.9/site-packages (from unstructured) (4.9.3)\n",
      "Requirement already satisfied: nltk in /Users/rakeshk94/miniconda3/envs/torch/lib/python3.9/site-packages (from unstructured) (3.9.1)\n",
      "Requirement already satisfied: requests in /Users/rakeshk94/miniconda3/envs/torch/lib/python3.9/site-packages (from unstructured) (2.31.0)\n",
      "Requirement already satisfied: beautifulsoup4 in /Users/rakeshk94/miniconda3/envs/torch/lib/python3.9/site-packages (from unstructured) (4.12.3)\n",
      "Requirement already satisfied: emoji in /Users/rakeshk94/miniconda3/envs/torch/lib/python3.9/site-packages (from unstructured) (2.14.0)\n",
      "Requirement already satisfied: dataclasses-json in /Users/rakeshk94/miniconda3/envs/torch/lib/python3.9/site-packages (from unstructured) (0.6.4)\n",
      "Requirement already satisfied: python-iso639 in /Users/rakeshk94/miniconda3/envs/torch/lib/python3.9/site-packages (from unstructured) (2024.10.22)\n",
      "Requirement already satisfied: langdetect in /Users/rakeshk94/miniconda3/envs/torch/lib/python3.9/site-packages (from unstructured) (1.0.9)\n",
      "Requirement already satisfied: numpy<2 in /Users/rakeshk94/miniconda3/envs/torch/lib/python3.9/site-packages (from unstructured) (1.26.4)\n",
      "Requirement already satisfied: rapidfuzz in /Users/rakeshk94/miniconda3/envs/torch/lib/python3.9/site-packages (from unstructured) (3.11.0)\n",
      "Requirement already satisfied: backoff in /Users/rakeshk94/miniconda3/envs/torch/lib/python3.9/site-packages (from unstructured) (2.2.1)\n",
      "Requirement already satisfied: typing-extensions in /Users/rakeshk94/miniconda3/envs/torch/lib/python3.9/site-packages (from unstructured) (4.12.2)\n",
      "Requirement already satisfied: unstructured-client in /Users/rakeshk94/miniconda3/envs/torch/lib/python3.9/site-packages (from unstructured) (0.28.1)\n",
      "Requirement already satisfied: wrapt in /Users/rakeshk94/miniconda3/envs/torch/lib/python3.9/site-packages (from unstructured) (1.14.1)\n",
      "Requirement already satisfied: tqdm in /Users/rakeshk94/miniconda3/envs/torch/lib/python3.9/site-packages (from unstructured) (4.66.1)\n",
      "Requirement already satisfied: psutil in /Users/rakeshk94/miniconda3/envs/torch/lib/python3.9/site-packages (from unstructured) (5.9.5)\n",
      "Requirement already satisfied: python-oxmsg in /Users/rakeshk94/miniconda3/envs/torch/lib/python3.9/site-packages (from unstructured) (0.0.1)\n",
      "Requirement already satisfied: html5lib in /Users/rakeshk94/miniconda3/envs/torch/lib/python3.9/site-packages (from unstructured) (1.1)\n",
      "Requirement already satisfied: soupsieve>1.2 in /Users/rakeshk94/miniconda3/envs/torch/lib/python3.9/site-packages (from beautifulsoup4->unstructured) (2.5)\n",
      "Requirement already satisfied: marshmallow<4.0.0,>=3.18.0 in /Users/rakeshk94/miniconda3/envs/torch/lib/python3.9/site-packages (from dataclasses-json->unstructured) (3.21.0)\n",
      "Requirement already satisfied: typing-inspect<1,>=0.4.0 in /Users/rakeshk94/miniconda3/envs/torch/lib/python3.9/site-packages (from dataclasses-json->unstructured) (0.9.0)\n",
      "Requirement already satisfied: six>=1.9 in /Users/rakeshk94/miniconda3/envs/torch/lib/python3.9/site-packages (from html5lib->unstructured) (1.16.0)\n",
      "Requirement already satisfied: webencodings in /Users/rakeshk94/miniconda3/envs/torch/lib/python3.9/site-packages (from html5lib->unstructured) (0.5.1)\n",
      "Requirement already satisfied: click in /Users/rakeshk94/miniconda3/envs/torch/lib/python3.9/site-packages (from nltk->unstructured) (8.1.7)\n",
      "Requirement already satisfied: joblib in /Users/rakeshk94/miniconda3/envs/torch/lib/python3.9/site-packages (from nltk->unstructured) (1.3.2)\n",
      "Requirement already satisfied: regex>=2021.8.3 in /Users/rakeshk94/miniconda3/envs/torch/lib/python3.9/site-packages (from nltk->unstructured) (2023.10.3)\n",
      "Requirement already satisfied: olefile in /Users/rakeshk94/miniconda3/envs/torch/lib/python3.9/site-packages (from python-oxmsg->unstructured) (0.47)\n",
      "Requirement already satisfied: charset-normalizer<4,>=2 in /Users/rakeshk94/miniconda3/envs/torch/lib/python3.9/site-packages (from requests->unstructured) (3.3.1)\n",
      "Requirement already satisfied: idna<4,>=2.5 in /Users/rakeshk94/miniconda3/envs/torch/lib/python3.9/site-packages (from requests->unstructured) (3.4)\n",
      "Requirement already satisfied: urllib3<3,>=1.21.1 in /Users/rakeshk94/miniconda3/envs/torch/lib/python3.9/site-packages (from requests->unstructured) (1.26.18)\n",
      "Requirement already satisfied: certifi>=2017.4.17 in /Users/rakeshk94/miniconda3/envs/torch/lib/python3.9/site-packages (from requests->unstructured) (2024.12.14)\n",
      "Requirement already satisfied: aiofiles>=24.1.0 in /Users/rakeshk94/miniconda3/envs/torch/lib/python3.9/site-packages (from unstructured-client->unstructured) (24.1.0)\n",
      "Requirement already satisfied: cryptography>=3.1 in /Users/rakeshk94/miniconda3/envs/torch/lib/python3.9/site-packages (from unstructured-client->unstructured) (44.0.0)\n",
      "Requirement already satisfied: eval-type-backport<0.3.0,>=0.2.0 in /Users/rakeshk94/miniconda3/envs/torch/lib/python3.9/site-packages (from unstructured-client->unstructured) (0.2.2)\n",
      "Requirement already satisfied: httpx>=0.27.0 in /Users/rakeshk94/miniconda3/envs/torch/lib/python3.9/site-packages (from unstructured-client->unstructured) (0.27.0)\n",
      "Requirement already satisfied: jsonpath-python<2.0.0,>=1.0.6 in /Users/rakeshk94/miniconda3/envs/torch/lib/python3.9/site-packages (from unstructured-client->unstructured) (1.0.6)\n",
      "Requirement already satisfied: nest-asyncio>=1.6.0 in /Users/rakeshk94/miniconda3/envs/torch/lib/python3.9/site-packages (from unstructured-client->unstructured) (1.6.0)\n",
      "Requirement already satisfied: pydantic<2.10.0,>=2.9.2 in /Users/rakeshk94/miniconda3/envs/torch/lib/python3.9/site-packages (from unstructured-client->unstructured) (2.9.2)\n",
      "Requirement already satisfied: pypdf>=4.0 in /Users/rakeshk94/miniconda3/envs/torch/lib/python3.9/site-packages (from unstructured-client->unstructured) (5.1.0)\n",
      "Requirement already satisfied: python-dateutil<3.0.0,>=2.8.2 in /Users/rakeshk94/miniconda3/envs/torch/lib/python3.9/site-packages (from unstructured-client->unstructured) (2.8.2)\n",
      "Requirement already satisfied: requests-toolbelt>=1.0.0 in /Users/rakeshk94/miniconda3/envs/torch/lib/python3.9/site-packages (from unstructured-client->unstructured) (1.0.0)\n",
      "Requirement already satisfied: cffi>=1.12 in /Users/rakeshk94/miniconda3/envs/torch/lib/python3.9/site-packages (from cryptography>=3.1->unstructured-client->unstructured) (1.16.0)\n",
      "Requirement already satisfied: anyio in /Users/rakeshk94/miniconda3/envs/torch/lib/python3.9/site-packages (from httpx>=0.27.0->unstructured-client->unstructured) (4.0.0)\n",
      "Requirement already satisfied: httpcore==1.* in /Users/rakeshk94/miniconda3/envs/torch/lib/python3.9/site-packages (from httpx>=0.27.0->unstructured-client->unstructured) (1.0.4)\n",
      "Requirement already satisfied: sniffio in /Users/rakeshk94/miniconda3/envs/torch/lib/python3.9/site-packages (from httpx>=0.27.0->unstructured-client->unstructured) (1.3.0)\n",
      "Requirement already satisfied: h11<0.15,>=0.13 in /Users/rakeshk94/miniconda3/envs/torch/lib/python3.9/site-packages (from httpcore==1.*->httpx>=0.27.0->unstructured-client->unstructured) (0.14.0)\n",
      "Requirement already satisfied: packaging>=17.0 in /Users/rakeshk94/miniconda3/envs/torch/lib/python3.9/site-packages (from marshmallow<4.0.0,>=3.18.0->dataclasses-json->unstructured) (23.2)\n",
      "Requirement already satisfied: annotated-types>=0.6.0 in /Users/rakeshk94/miniconda3/envs/torch/lib/python3.9/site-packages (from pydantic<2.10.0,>=2.9.2->unstructured-client->unstructured) (0.6.0)\n",
      "Requirement already satisfied: pydantic-core==2.23.4 in /Users/rakeshk94/miniconda3/envs/torch/lib/python3.9/site-packages (from pydantic<2.10.0,>=2.9.2->unstructured-client->unstructured) (2.23.4)\n",
      "Requirement already satisfied: mypy-extensions>=0.3.0 in /Users/rakeshk94/miniconda3/envs/torch/lib/python3.9/site-packages (from typing-inspect<1,>=0.4.0->dataclasses-json->unstructured) (1.0.0)\n",
      "Requirement already satisfied: pycparser in /Users/rakeshk94/miniconda3/envs/torch/lib/python3.9/site-packages (from cffi>=1.12->cryptography>=3.1->unstructured-client->unstructured) (2.21)\n",
      "Requirement already satisfied: exceptiongroup>=1.0.2 in /Users/rakeshk94/miniconda3/envs/torch/lib/python3.9/site-packages (from anyio->httpx>=0.27.0->unstructured-client->unstructured) (1.1.3)\n",
      "Note: you may need to restart the kernel to use updated packages.\n"
     ]
    },
    {
     "name": "stderr",
     "output_type": "stream",
     "text": [
      "huggingface/tokenizers: The current process just got forked, after parallelism has already been used. Disabling parallelism to avoid deadlocks...\n",
      "To disable this warning, you can either:\n",
      "\t- Avoid using `tokenizers` before the fork if possible\n",
      "\t- Explicitly set the environment variable TOKENIZERS_PARALLELISM=(true | false)\n"
     ]
    },
    {
     "name": "stdout",
     "output_type": "stream",
     "text": [
      "\u001b[31mERROR: Could not find a version that satisfies the requirement python-magic-bin (from versions: none)\u001b[0m\u001b[31m\n",
      "\u001b[0m\u001b[31mERROR: No matching distribution found for python-magic-bin\u001b[0m\u001b[31m\n",
      "\u001b[0mNote: you may need to restart the kernel to use updated packages.\n"
     ]
    }
   ],
   "source": [
    "%pip install ragas==0.1.7\n",
    "%pip install langchain==0.1.16\n",
    "%pip install unstructured\n",
    "%pip install python-magic-bin"
   ]
  },
  {
   "cell_type": "code",
   "execution_count": null,
   "metadata": {},
   "outputs": [],
   "source": [
    "from ragas.testset.generator import TestsetGenerator\n",
    "from ragas.testset.evolutions import simple, reasoning, multi_context\n",
    "from langchain.schema import Document\n",
    "\n",
    "# Convert string summaries to Document objects\n",
    "documents = []\n",
    "for summary in text_summaries + image_summaries + table_summaries:\n",
    "    doc = Document(page_content=summary)\n",
    "    documents.append(doc)\n",
    "\n",
    "generator = TestsetGenerator.from_langchain(\n",
    "    generator_llm=generator_llm,\n",
    "    critic_llm=critic_llm,\n",
    "    embeddings=ollama_emb\n",
    ")\n",
    "distribution = {simple: 0.5, reasoning: 0.25, multi_context: 0.25}\n",
    "\n",
    "try:\n",
    "    testset = generator.generate_with_langchain_docs(documents=documents,\n",
    "                                                     test_size=10,\n",
    "                                                     distributions=distribution,\n",
    "                                                     raise_exceptions=False)\n",
    "except Exception as e:\n",
    "    print(f\"An error occurred: {e}\")"
   ]
  },
  {
   "cell_type": "code",
   "execution_count": 64,
   "metadata": {},
   "outputs": [],
   "source": [
    "test_df = testset.to_pandas().dropna()"
   ]
  },
  {
   "cell_type": "code",
   "execution_count": null,
   "metadata": {},
   "outputs": [],
   "source": [
    "test_df.shape"
   ]
  },
  {
   "cell_type": "code",
   "execution_count": null,
   "metadata": {},
   "outputs": [],
   "source": [
    "def generate_response(query_engine, question):\n",
    "    response = query_engine.query(question)\n",
    "    return {\n",
    "        \"answer\": response.response,\n",
    "        \"contexts\": [c.node.get_content() for c in response.source_nodes],\n",
    "    }"
   ]
  },
  {
   "cell_type": "code",
   "execution_count": null,
   "metadata": {},
   "outputs": [],
   "source": [
    "from datasets import Dataset\n",
    "from tqdm.auto import tqdm\n",
    "\n",
    "test_questions = test_df[\"question\"].values\n",
    "\n",
    "responses = [generate_response(query_engine, q) for q in tqdm(test_questions)]\n",
    "\n",
    "dataset_dict = {\n",
    "    \"question\": test_questions,\n",
    "    \"answer\": [response[\"answer\"] for response in responses],\n",
    "    \"contexts\": [response[\"contexts\"] for response in responses],\n",
    "    \"ground_truth\": test_df[\"ground_truth\"].values.tolist(),\n",
    "}\n",
    "\n",
    "ragas_eval_dataset = Dataset.from_dict(dataset_dict)"
   ]
  }
 ],
 "metadata": {
  "kernelspec": {
   "display_name": "Python 3.9(torch cuda)",
   "language": "python",
   "name": "pytorch"
  },
  "language_info": {
   "codemirror_mode": {
    "name": "ipython",
    "version": 3
   },
   "file_extension": ".py",
   "mimetype": "text/x-python",
   "name": "python",
   "nbconvert_exporter": "python",
   "pygments_lexer": "ipython3",
   "version": "3.9.18"
  }
 },
 "nbformat": 4,
 "nbformat_minor": 2
}
