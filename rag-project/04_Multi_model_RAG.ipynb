{
 "cells": [
  {
   "cell_type": "markdown",
   "metadata": {},
   "source": [
    "### Multi Modal Data with LLms\n",
    "\n",
    "- using unstructured\n",
    "- Generate text summary for images\n",
    "- using image summary embeddings and text embeddings pairs in the VectorDB"
   ]
  },
  {
   "cell_type": "code",
   "execution_count": 1,
   "metadata": {},
   "outputs": [],
   "source": [
    "# %pip install unstructured==0.16.6 \n",
    "# %pip install pdfminer.six \n",
    "# %pip install pillow \n",
    "# %pip install pi_heif\n",
    "# %pip install unstructured_inference \n",
    "# %pip install poppler-utils\n",
    "# %pip install pdf2image\n",
    "# %conda install -c conda-forge poppler  --y\n",
    "# %pip install unstructured_pytesseract \n",
    "# %conda install -c conda-forge tesseract --y"
   ]
  },
  {
   "cell_type": "markdown",
   "metadata": {},
   "source": [
    "### Importing the required components"
   ]
  },
  {
   "cell_type": "code",
   "execution_count": 2,
   "metadata": {},
   "outputs": [],
   "source": [
    "# %pip install --upgrade opencv-python opencv-python-headless\n",
    "# %pip install --upgrade layoutparser"
   ]
  },
  {
   "cell_type": "code",
   "execution_count": 3,
   "metadata": {},
   "outputs": [],
   "source": [
    "from unstructured.partition.pdf import partition_pdf"
   ]
  },
  {
   "cell_type": "markdown",
   "metadata": {},
   "source": [
    "### Parsing the PDF"
   ]
  },
  {
   "cell_type": "code",
   "execution_count": 4,
   "metadata": {},
   "outputs": [],
   "source": [
    "file_path = 'data/Attention.pdf'\n",
    "\n",
    "chunks = partition_pdf(\n",
    "    filename =file_path,\n",
    "    infer_table_structure=True,\n",
    "    strategy=\"hi_res\",\n",
    "    extract_image_block_types=[\"Image\", \"Table\"],\n",
    "    extract_image_block_to_payload=True,\n",
    "    chunking_strategy=\"by_title\",\n",
    "    max_characters=10000,\n",
    "    combine_text_under_n_chars=2000,\n",
    "    new_after_n_char=6000\n",
    ")"
   ]
  },
  {
   "cell_type": "code",
   "execution_count": 5,
   "metadata": {},
   "outputs": [
    {
     "name": "stdout",
     "output_type": "stream",
     "text": [
      "[<unstructured.documents.elements.CompositeElement object at 0x327fac9d0>, <unstructured.documents.elements.CompositeElement object at 0x327facb50>]\n"
     ]
    }
   ],
   "source": [
    "print(chunks[:2])"
   ]
  },
  {
   "cell_type": "code",
   "execution_count": 6,
   "metadata": {},
   "outputs": [
    {
     "data": {
      "text/markdown": [
       "3 Model Architecture\n",
       "\n",
       "Most competitive neural sequence transduction models have an encoder-decoder structure [5] [2] 35). Here, the encoder maps an input sequence of symbol representations (21, ...,%,,) to a sequence of continuous representations z = (z1,...,2n). Given z, the decoder then generates an output sequence (yj, ..., Ym) of symbols one element at a time. At each step the model is auto-regressive , consuming the previously generated symbols as additional input when generating the next.\n",
       "\n",
       "Output\n",
       "\n",
       "Probabilities Linear Add & Norm Feed Forward Add & Norm Multi-Head Attention Add & Norm Nx Masked Multi-Head Multi-Head Attention Attention Se a, ee a, Positional Positional Encoding @ © @ Encoding Input Output Embedding Embedding Inputs Outputs (shifted right)\n",
       "\n",
       "Figure 1: The Transformer - model architecture.\n",
       "\n",
       "The Transformer follows this overall architecture using stacked self-attention and point-wise, fully connected layers for both the encoder and decoder, shown in the left and right halves of Figure[I] respectively.\n",
       "\n",
       "3.1 Encoder and Decoder Stacks\n",
       "\n",
       "Encoder: The encoder is composed of a stack of N = 6 identical layers. Each layer has two sub-layers. The first is a multi-head self-attention mechanism, and the second is a simple, position- wise fully connected feed-forward network. We employ a residual connection around each of the two sub-layers, followed by layer normalization [I]. That is, the output of each sub-layer is LayerNorm(x + Sublayer(x)), where Sublayer() is the function implemented by the sub-layer itself. To facilitate these residual connections, all sub-layers in the model, as well as the embedding layers, produce outputs of dimension dmode = 512.\n",
       "\n",
       "Decoder: The decoder is also composed of a stack of N = 6 identical layers. In addition to the two sub-layers in each encoder layer, the decoder inserts a third sub-layer, which performs multi-head attention over the output of the encoder stack. Similar to the encoder, we employ residual connections around each of the sub-layers, followed by layer normalization. We also modify the self-attention sub-layer in the decoder stack to prevent positions from attending to subsequent positions. This masking, combined with fact that the output embeddings are offset by one position, ensures that the predictions for position i can depend only on the known outputs at positions less than 7."
      ],
      "text/plain": [
       "<IPython.core.display.Markdown object>"
      ]
     },
     "metadata": {},
     "output_type": "display_data"
    }
   ],
   "source": [
    "from IPython.display import Markdown, display\n",
    "\n",
    "display(Markdown(str(chunks[2].text)))"
   ]
  },
  {
   "cell_type": "code",
   "execution_count": 7,
   "metadata": {},
   "outputs": [
    {
     "data": {
      "text/plain": [
       "[<unstructured.documents.elements.Title at 0x327f8a130>,\n",
       " <unstructured.documents.elements.NarrativeText at 0x327fa6c40>,\n",
       " <unstructured.documents.elements.Title at 0x327fa6490>,\n",
       " <unstructured.documents.elements.Image at 0x327fa60d0>,\n",
       " <unstructured.documents.elements.FigureCaption at 0x327fa6340>,\n",
       " <unstructured.documents.elements.NarrativeText at 0x327fa68b0>,\n",
       " <unstructured.documents.elements.Title at 0x327fa6d90>,\n",
       " <unstructured.documents.elements.NarrativeText at 0x327f8deb0>,\n",
       " <unstructured.documents.elements.NarrativeText at 0x327f8dee0>]"
      ]
     },
     "execution_count": 7,
     "metadata": {},
     "output_type": "execute_result"
    }
   ],
   "source": [
    "chunks[2].metadata.orig_elements"
   ]
  },
  {
   "cell_type": "markdown",
   "metadata": {},
   "source": [
    "-- We got the metadata for the image, Title, and text"
   ]
  },
  {
   "cell_type": "code",
   "execution_count": 8,
   "metadata": {},
   "outputs": [
    {
     "data": {
      "text/html": [
       "<table><tr><td>Layer Type</td><td>Complexity per Layer</td><td>Sequential Operations</td><td>Maximum Path Length</td></tr><tr><td>Self-Attention</td><td>O(n? - d)</td><td>O(1)</td><td>O(1)</td></tr><tr><td>Recurrent</td><td>O(n- d?)</td><td>O(n)</td><td>O(n)</td></tr><tr><td>Convolutional</td><td>O(k-n-d?)</td><td>O(1)</td><td>O(logy(n))</td></tr><tr><td>Self-Attention (restricted)</td><td>O(r-n-d)</td><td>ol)</td><td>O(n/r)</td></tr></table>"
      ],
      "text/plain": [
       "<IPython.core.display.HTML object>"
      ]
     },
     "metadata": {},
     "output_type": "display_data"
    }
   ],
   "source": [
    "from IPython.display import Markdown, display,HTML\n",
    "display(HTML(chunks[6].metadata.text_as_html))"
   ]
  },
  {
   "cell_type": "markdown",
   "metadata": {},
   "source": [
    "### Separate images, texts and tables"
   ]
  },
  {
   "cell_type": "code",
   "execution_count": 9,
   "metadata": {},
   "outputs": [
    {
     "data": {
      "text/plain": [
       "[<unstructured.documents.elements.CompositeElement at 0x327fac9d0>,\n",
       " <unstructured.documents.elements.CompositeElement at 0x327facb50>,\n",
       " <unstructured.documents.elements.CompositeElement at 0x327faca30>,\n",
       " <unstructured.documents.elements.CompositeElement at 0x327fac460>,\n",
       " <unstructured.documents.elements.CompositeElement at 0x327facfa0>,\n",
       " <unstructured.documents.elements.CompositeElement at 0x327fac820>,\n",
       " <unstructured.documents.elements.Table at 0x327f92760>,\n",
       " <unstructured.documents.elements.CompositeElement at 0x327f92790>,\n",
       " <unstructured.documents.elements.CompositeElement at 0x327f8d970>,\n",
       " <unstructured.documents.elements.Table at 0x364027d30>,\n",
       " <unstructured.documents.elements.CompositeElement at 0x327f8d820>,\n",
       " <unstructured.documents.elements.CompositeElement at 0x327f85130>,\n",
       " <unstructured.documents.elements.Table at 0x327f85610>,\n",
       " <unstructured.documents.elements.CompositeElement at 0x363ae9ac0>,\n",
       " <unstructured.documents.elements.Table at 0x327f85520>,\n",
       " <unstructured.documents.elements.CompositeElement at 0x327f85dc0>,\n",
       " <unstructured.documents.elements.CompositeElement at 0x327fa6bb0>]"
      ]
     },
     "execution_count": 9,
     "metadata": {},
     "output_type": "execute_result"
    }
   ],
   "source": [
    "chunks"
   ]
  },
  {
   "cell_type": "code",
   "execution_count": 10,
   "metadata": {},
   "outputs": [],
   "source": [
    "import unstructured\n",
    "\n",
    "texts, tables, images = [], [], []\n",
    "\n",
    "for chunk in chunks:\n",
    "    if isinstance(chunk, unstructured.documents.elements.Table):\n",
    "        tables.append(chunk)\n",
    "    elif isinstance(chunk, unstructured.documents.elements.CompositeElement):\n",
    "        texts.append(chunk)\n",
    "\n",
    "        chunk_elements = chunk.metadata.orig_elements\n",
    "\n",
    "        # iterate over all elements of this chunk\n",
    "        for element in chunk_elements:\n",
    "            if isinstance(element, unstructured.documents.elements.Image):\n",
    "                images.append(element.metadata.image_base64)"
   ]
  },
  {
   "cell_type": "code",
   "execution_count": 11,
   "metadata": {},
   "outputs": [
    {
     "name": "stdout",
     "output_type": "stream",
     "text": [
      "Total Texts: 13\n",
      "Total Tables: 4\n",
      "Total Images: 6\n"
     ]
    }
   ],
   "source": [
    "print(f\"Total Texts:\", len(texts))\n",
    "print(f\"Total Tables:\", len(tables))\n",
    "print(f\"Total Images:\", len(images))"
   ]
  },
  {
   "cell_type": "code",
   "execution_count": 12,
   "metadata": {},
   "outputs": [
    {
     "data": {
      "image/jpeg": "[encoded data removed]",
      "text/plain": [
       "<IPython.core.display.Image object>"
      ]
     },
     "metadata": {},
     "output_type": "display_data"
    }
   ],
   "source": [
    "import base64\n",
    "from IPython.display import Image,display\n",
    "\n",
    "image_data = base64.b64decode(images[1])\n",
    "display(Image(data=image_data))"
   ]
  },
  {
   "cell_type": "code",
   "execution_count": 13,
   "metadata": {},
   "outputs": [],
   "source": [
    "## Storing the abovek images as local files before we can pass them to the multimodal LLM\n",
    "\n",
    "import base64\n",
    "from IPython.display import Image,display\n",
    "\n",
    "for idx, image in enumerate(images):\n",
    "    \n",
    "    image_data = base64.b64decode(image)\n",
    "\n",
    "    path = f\"data/image_{idx}.jpeg\"\n",
    "\n",
    "    with open(path, \"wb\") as f:\n",
    "        f.write(image_data)"
   ]
  },
  {
   "cell_type": "markdown",
   "metadata": {},
   "source": [
    "### Summarize images, texts and tables"
   ]
  },
  {
   "cell_type": "code",
   "execution_count": 15,
   "metadata": {},
   "outputs": [],
   "source": [
    "## summarize images\n",
    "\n",
    "import ollama\n",
    "\n",
    "def get_image_summary(file_path):\n",
    "    \n",
    "    response = ollama.chat(\n",
    "        model = 'llama3.2-vision',\n",
    "        messages=[{\n",
    "            'role': 'user',\n",
    "            'content': 'Summarize this , for better redability and mathematical representation',\n",
    "            'iamges': [file_path]\n",
    "        }]\n",
    "    )\n",
    "    return response.message_content\n"
   ]
  },
  {
   "cell_type": "code",
   "execution_count": null,
   "metadata": {},
   "outputs": [],
   "source": [
    "from tqdm import tqdm\n",
    "image_summaries = [get_image_summary(f\"image_{i+1}.jpeg\") \\\n",
    "                   for i in tqdm(range(len(images)))]"
   ]
  },
  {
   "cell_type": "code",
   "execution_count": null,
   "metadata": {},
   "outputs": [],
   "source": [
    "import pickle\n",
    "with open(\"static/image_summaries.pkl\", \"wb\") as f:\n",
    "    pickle.dump(image_summaries, f)"
   ]
  },
  {
   "cell_type": "code",
   "execution_count": 18,
   "metadata": {},
   "outputs": [],
   "source": [
    "import pickle\n",
    "with open(\"static/image_summaries.pkl\", \"rb\") as f:\n",
    "    image_summaries = pickle.load(f)"
   ]
  },
  {
   "cell_type": "code",
   "execution_count": 19,
   "metadata": {},
   "outputs": [
    {
     "data": {
      "text/markdown": [
       "**Overview of the Image**\n",
       "\n",
       "The image presents a detailed illustration of two types of attention mechanisms: **Scaled Dot-Product Attention** and **Multi-Head Attention**. These concepts are central to various applications in machine learning, particularly in transformer models.\n",
       "\n",
       "**Scaled Dot-Product Attention**\n",
       "\n",
       "This section illustrates the scaled dot-product attention mechanism. It consists of three primary components:\n",
       "\n",
       "*   **Query (Q)**: The input vector that represents the information being queried.\n",
       "*   **Key (K)**: The input vector that represents the information relevant to the query.\n",
       "*   **Value (V)**: The input vector that provides additional context or relevance.\n",
       "\n",
       "The scaled dot-product attention mechanism calculates the similarity between the query and key vectors, then scales this similarity by a factor of 1/sqrt(d), where d is the dimensionality of the vectors. This scaling helps prevent the dot product from growing too large as the sequence length increases. The final output is obtained by taking the weighted sum of the value vectors based on their attention scores.\n",
       "\n",
       "**Multi-Head Attention**\n",
       "\n",
       "This section demonstrates the multi-head attention mechanism, which is a key component of transformer models. It involves applying multiple instances of scaled dot-product attention in parallel to different subsets of the input sequence. Each head attends to different aspects of the input and combines these attentions through concatenation or averaging.\n",
       "\n",
       "The benefits of multi-head attention include:\n",
       "\n",
       "*   **Improved Representation Learning**: By attending to different aspects of the input, each head can capture distinct information, leading to more comprehensive representations.\n",
       "*   **Robustness and Generalization**: The combination of multiple heads enhances model robustness against various tasks and improves generalizability.\n",
       "\n",
       "**Key Takeaways**\n",
       "\n",
       "The image effectively illustrates the inner workings of two critical attention mechanisms in deep learning. Understanding these concepts is essential for developing effective transformer models that can handle complex natural language processing tasks with high accuracy and efficiency."
      ],
      "text/plain": [
       "<IPython.core.display.Markdown object>"
      ]
     },
     "metadata": {},
     "output_type": "display_data"
    }
   ],
   "source": [
    "from IPython.display import Markdown, display\n",
    "display(Markdown(image_summaries[1]))"
   ]
  },
  {
   "cell_type": "code",
   "execution_count": 20,
   "metadata": {},
   "outputs": [
    {
     "name": "stderr",
     "output_type": "stream",
     "text": [
      "100%|██████████| 13/13 [01:08<00:00,  5.30s/it]\n"
     ]
    }
   ],
   "source": [
    "## summarize text\n",
    "\n",
    "def get_text_summary(text):\n",
    "\n",
    "    response = ollama.chat(\n",
    "        model = 'llama3.2:1b',\n",
    "        messages = [{\n",
    "            'role': 'user',\n",
    "            'content': f'Summarize this text: {text}'\n",
    "        }]\n",
    "    )\n",
    "    return response.message.content\n",
    "\n",
    "text_summaries = [get_text_summary(texts[i].text) \\\n",
    "                  for i in tqdm(range(len(texts)))]"
   ]
  },
  {
   "cell_type": "code",
   "execution_count": 21,
   "metadata": {},
   "outputs": [
    {
     "data": {
      "text/markdown": [
       "The text discusses the Transformer model architecture, which is a state-of-the-art approach in sequence modeling and transduction problems like language modeling and machine translation. The key features of the Transformer include:\n",
       "\n",
       "1. No recurrence: Unlike traditional recurrent neural networks (RNNs) or convolutional neural networks (CNNs), the Transformer relies solely on an attention mechanism to draw global dependencies between input and output sequences.\n",
       "2. Parallelization: The Transformer allows for more parallelization than traditional models, making it faster to train and process longer sequence lengths.\n",
       "3. Improved performance: Recent work has achieved significant improvements in computational efficiency through factorization tricks and conditional computation.\n",
       "\n",
       "The text also highlights the advantages of the Transformer over other models, including:\n",
       "\n",
       "* Self-attention: A mechanism that relates different positions of a single sequence to compute representations of the sequence.\n",
       "* No need for sequence-aligned recurrence or convolution: The Transformer can handle longer sequence lengths without requiring batching across examples.\n",
       "\n",
       "Overall, the Transformer is an innovative model architecture that has shown significant improvements in computational efficiency and performance compared to traditional models."
      ],
      "text/plain": [
       "<IPython.core.display.Markdown object>"
      ]
     },
     "metadata": {},
     "output_type": "display_data"
    }
   ],
   "source": [
    "display(Markdown(text_summaries[1]))"
   ]
  },
  {
   "cell_type": "code",
   "execution_count": 24,
   "metadata": {},
   "outputs": [
    {
     "name": "stderr",
     "output_type": "stream",
     "text": [
      "100%|██████████| 4/4 [00:27<00:00,  6.90s/it]\n"
     ]
    }
   ],
   "source": [
    "### Summarize tables\n",
    "\n",
    "def get_table_summary(table_html):\n",
    "\n",
    "    response = ollama.chat(\n",
    "        model = 'llama3.2:1b',\n",
    "        messages = [{\n",
    "            'role': 'user',\n",
    "            'content': f'Summarize this table: {table_html}'\n",
    "        }]\n",
    "    )\n",
    "    return response.message.content\n",
    "\n",
    "table_summaries = [get_table_summary(tables[i].metadata.text_as_html) \\\n",
    "                    for i in tqdm(range(len(tables)))]"
   ]
  },
  {
   "cell_type": "code",
   "execution_count": 25,
   "metadata": {},
   "outputs": [
    {
     "data": {
      "text/markdown": [
       "The table provides various model performances for different architectures and datasets. Here's a summary:\n",
       "\n",
       "- ByteNet: \n",
       "  - EN-DE (English): 23.75\n",
       "  - BLEU EN-FR (Bilingual Evaluation Under Study): 39.2\n",
       "  - Training EN-DE: 1.0 FLOPs\n",
       "  - Cost EN-FR: Not specified\n",
       "\n",
       "- Deep-Att + PosUnk:\n",
       "  - EN-DE: 39.2\n",
       "  - Training EN-DE: 1.0 - 10.9 FLOPs\n",
       "  - BLEU EN-FR: Not specified\n",
       "\n",
       "- GNMT + RL (Generative Multitask Network):\n",
       "  - EN-DE: 24.6\n",
       "  - Training EN-DE: 2.3-10.9 FLOPs\n",
       "  - Cost EN-FR: 1.4-10.0 FLOPs\n",
       "\n",
       "- ConvS28S:\n",
       "  - EN-DE: 25.16\n",
       "  - Training EN-DE: 9.6-10%\n",
       "  - BLEU EN-FR: Not specified\n",
       "\n",
       "- MoE (Model Optimization Engine):\n",
       "  - EN-DE: 26.03\n",
       "  - Training EN-DE: 2.0-10.9 FLOPs\n",
       "  - Cost EN-FR: 1.21-1079 FLOPs\n",
       "\n",
       "- Deep-Att + PosUnk Ensemble:\n",
       "  - EN-DE: 40.4\n",
       "  - Training EN-DE: Not specified\n",
       "\n",
       "- GNMT + RL Ensemble (33 models):\n",
       "  - EN-DE: 26.30\n",
       "  - Training EN-DE: Not specified\n",
       "  - Cost EN-FR: 1.08-1074 FLOPs\n",
       "\n",
       "- ConvS2S Ensemble [9 models]:\n",
       "  - EN-DE: 26.36\n",
       "  - Training EN-DE: Not specified\n",
       "  - Cost EN-FR: Not specified\n",
       "\n",
       "- Transformer (base model) and big models:\n",
       "  - EN-DE: 27.3, 28.4\n",
       "  - Training EN-DE: Not specified\n",
       "  - Cost EN-FR: Not specified"
      ],
      "text/plain": [
       "<IPython.core.display.Markdown object>"
      ]
     },
     "metadata": {},
     "output_type": "display_data"
    }
   ],
   "source": [
    "display(Markdown(table_summaries[1]))"
   ]
  },
  {
   "cell_type": "markdown",
   "metadata": {},
   "source": [
    "### Embed Summaries"
   ]
  },
  {
   "cell_type": "code",
   "execution_count": 27,
   "metadata": {},
   "outputs": [],
   "source": [
    "# %pip install einops"
   ]
  },
  {
   "cell_type": "markdown",
   "metadata": {},
   "source": [
    "write the functionality in and 'EmbedData'\n",
    "- Handle the loading of an embedding model.\n",
    "- Provide methods to batch-process the dataset for efficient embedding generation.\n",
    "- Store the generated embeddings for use in the retrieval system."
   ]
  },
  {
   "cell_type": "code",
   "execution_count": 31,
   "metadata": {},
   "outputs": [],
   "source": [
    "from llama_index.embeddings.huggingface import HuggingFaceEmbedding\n",
    "\n",
    "def batch_iterate(lst, batch_size):\n",
    "    for i in range(0 ,len(lst), batch_size):\n",
    "        yield lst[i:i+batch_size]\n",
    "\n",
    "\n",
    "class EmbedData:\n",
    "    \n",
    "    def __init__(self,\n",
    "                 embed_model_name=\"nomic-ai/nomic-embed-text-v1.5\",\n",
    "                 batch_size=32):\n",
    "        self.embed_model_name = embed_model_name\n",
    "        self.embed_model = self._load_embed_model()\n",
    "        self.batch_size = batch_size\n",
    "        self.embeddings = []\n",
    "\n",
    "    def _load_embed_model(self):\n",
    "        embed_model = HuggingFaceEmbedding(model_name=self.embed_model_name,\n",
    "                                           trust_remote_code=True,\n",
    "                                           cache_folder='./hf_cache')\n",
    "        return embed_model\n",
    "    \n",
    "    def generate_embedding(self, context):\n",
    "        return self.embed_model.get_text_embedding_batch(context)\n",
    "    \n",
    "    def embed(self, contexts):\n",
    "        self.contexts = contexts\n",
    "\n",
    "        for batch_context in tqdm(batch_iterate(contexts, self.batch_size),\n",
    "                                  total = len(contexts)//self.batch_size,\n",
    "                                  desc = \"Embedding data in batches\"):\n",
    "            batch_embeddings = self.generate_embedding(batch_context)\n",
    "\n",
    "            self.embeddings.extend(batch_embeddings)"
   ]
  },
  {
   "cell_type": "code",
   "execution_count": 32,
   "metadata": {},
   "outputs": [
    {
     "name": "stderr",
     "output_type": "stream",
     "text": [
      "/Users/rakeshk94/miniconda3/envs/torch/lib/python3.9/site-packages/huggingface_hub/file_download.py:795: FutureWarning: `resume_download` is deprecated and will be removed in version 1.0.0. Downloads always resume when possible. If you want to force a new download, use `force_download=True`.\n",
      "  warnings.warn(\n",
      "<All keys matched successfully>\n",
      "Embedding data in batches: 1it [00:01,  1.66s/it]\n"
     ]
    }
   ],
   "source": [
    "batch_size = 32\n",
    "\n",
    "embeddata= EmbedData(batch_size=batch_size)\n",
    "\n",
    "embeddata.embed(text_summaries + image_summaries + table_summaries)"
   ]
  },
  {
   "cell_type": "markdown",
   "metadata": {},
   "source": [
    "### Create a vector database and index"
   ]
  },
  {
   "cell_type": "code",
   "execution_count": 35,
   "metadata": {},
   "outputs": [],
   "source": [
    "from qdrant_client import models\n",
    "from qdrant_client import QdrantClient\n",
    "\n",
    "class QdrantVDB:\n",
    "    def __init__(self, collection_name, vector_dim=768, batch_size=512):\n",
    "        self.collection_name = collection_name\n",
    "        self.vector_dim = vector_dim\n",
    "        self.batch_size = batch_size\n",
    "\n",
    "    def define_client(self):\n",
    "        self.client = QdrantClient(url=\"http://localhost:6333\",\n",
    "                                   prefer_grpc=True)\n",
    "        \n",
    "    def create_collection(self):\n",
    "        \n",
    "        if not self.client.collection_exists(collection_name=self.collection_name):\n",
    "\n",
    "            self.client.create_collection(collection_name=self.collection_name,\n",
    "                                          \n",
    "                                          vectors_config=models.VectorParams(\n",
    "                                                              size=self.vector_dim,\n",
    "                                                              distance=models.Distance.DOT,\n",
    "                                                              on_disk=True),\n",
    "                                          \n",
    "                                          optimizers_config=models.OptimizersConfigDiff(\n",
    "                                                                            default_segment_number=5,\n",
    "                                                                            indexing_threshold=0)\n",
    "                                         )\n",
    "    def ingest_data(self, embeddata):\n",
    "    \n",
    "        for batch_context, batch_embeddings in tqdm(zip(batch_iterate(embeddata.contexts, self.batch_size), \n",
    "                                                        batch_iterate(embeddata.embeddings, self.batch_size)), \n",
    "                                                    total=len(embeddata.contexts)//self.batch_size, \n",
    "                                                    desc=\"Ingesting in batches\"):\n",
    "        \n",
    "            self.client.upload_collection(collection_name=self.collection_name,\n",
    "                                        vectors=batch_embeddings,\n",
    "                                        payload=[{\"context\": context} for context in batch_context])\n",
    "\n",
    "        self.client.update_collection(collection_name=self.collection_name,\n",
    "                                    optimizer_config=models.OptimizersConfigDiff(indexing_threshold=20000)\n",
    "                                    )"
   ]
  },
  {
   "cell_type": "code",
   "execution_count": 36,
   "metadata": {},
   "outputs": [
    {
     "name": "stderr",
     "output_type": "stream",
     "text": [
      "Ingesting in batches: 1it [00:00, 47.44it/s]\n"
     ]
    }
   ],
   "source": [
    "database = QdrantVDB(\"squad_collection\")\n",
    "database.define_client()\n",
    "database.create_collection()\n",
    "database.ingest_data(embeddata)"
   ]
  },
  {
   "cell_type": "code",
   "execution_count": null,
   "metadata": {},
   "outputs": [],
   "source": [
    "## Completed Updating the data"
   ]
  }
 ],
 "metadata": {
  "kernelspec": {
   "display_name": "Python 3.9(torch cuda)",
   "language": "python",
   "name": "pytorch"
  },
  "language_info": {
   "codemirror_mode": {
    "name": "ipython",
    "version": 3
   },
   "file_extension": ".py",
   "mimetype": "text/x-python",
   "name": "python",
   "nbconvert_exporter": "python",
   "pygments_lexer": "ipython3",
   "version": "3.9.18"
  }
 },
 "nbformat": 4,
 "nbformat_minor": 2
}
